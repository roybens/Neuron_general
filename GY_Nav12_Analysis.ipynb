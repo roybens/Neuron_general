{
 "cells": [
  {
   "cell_type": "markdown",
   "id": "62ee3ee1",
   "metadata": {},
   "source": [
    "\n",
    "# Developing_12HMM\n"
   ]
  },
  {
   "cell_type": "markdown",
   "id": "53af245c",
   "metadata": {},
   "source": [
    "## M1TTPC2 VS Without M1TTPC2"
   ]
  },
  {
   "cell_type": "code",
   "execution_count": null,
   "id": "5edf3b91",
   "metadata": {
    "scrolled": true
   },
   "outputs": [],
   "source": [
    "import Developing_12HMM as Dev\n",
    "import matplotlib.pyplot as plt\n",
    "import numpy as np\n",
    "import NrnHelper as NH\n",
    "import Na12ModelGY as Mature\n",
    "\n",
    "sim = Mature.Na12ModelGY(na12name = 'na12_orig1' , mut_name = 'na12_R850P_3107')\n",
    "p=sim.plot_fi_curve(0,2,10,fn = f'M1TT')\n",
    "print(p)\n",
    "#M1TT WT:{} Het:{} Hom{}\n",
    "#without M1TT WT:{} Het:{} Hom{}\n"
   ]
  },
  {
   "cell_type": "code",
   "execution_count": null,
   "id": "93d1dc20",
   "metadata": {
    "scrolled": true
   },
   "outputs": [],
   "source": [
    "import Developing_12HMM as Dev\n",
    "import matplotlib.pyplot as plt\n",
    "import numpy as np\n",
    "import NrnHelper as NH\n",
    "import Na12ModelGY as Mature\n",
    "\n",
    "sim = Mature.Na12ModelGY(na12name = 'na12_orig1' , mut_name = 'na12_R850P_tauless2000')\n",
    "sim_config = {\n",
    "                'section' : 'soma',\n",
    "                'segment' : 0.5,\n",
    "                'section_num': 0,\n",
    "                'currents'  : ['na12.ina_ina','na12mut.ina_ina','na16.ina_ina','na16mut.ina_ina','ica_Ca_HVA','ica_Ca_LVAst','ihcn_Ih','ik_SK_E2','ik_SKv3_1'],\n",
    "                'ionic_concentrations' :[\"cai\", \"ki\", \"nai\"]\n",
    "                \n",
    "            }\n",
    "current_names = sim_config['currents']\n",
    "Vm, I, t, stim, ionic = sim.make_current_scape(sim_config=sim_config)\n",
    "\n",
    "plot_config = {\n",
    "        \"output\": {\n",
    "            \"savefig\": True,\n",
    "            \"dir\": \"./Plots/Currentscape/\",\n",
    "            \"fname\": \"test_plot\",\n",
    "            \"extension\": \"pdf\",\n",
    "            \"dpi\": 600,\n",
    "            \"transparent\": False\n",
    "        },\n",
    "        \"current\": {\"names\": current_names},\n",
    "        \"ions\":{\"names\": [\"ca\", \"k\", \"na\"]},\n",
    "        \"voltage\": {\"ylim\": [-90, 50]},\n",
    "        \"legendtextsize\": 5,\n",
    "        \"adjust\": {\n",
    "            \"left\": 0.15,\n",
    "            \"right\": 0.8,\n",
    "            \"top\": 1.0,\n",
    "            \"bottom\": 0.0\n",
    "            }\n",
    "        }\n",
    "print(I.keys())\n",
    "plot_currentscape(Vm, [I[x] for x in I.keys()], plot_config,[ionic[x] for x in ionic.keys()])"
   ]
  },
  {
   "cell_type": "code",
   "execution_count": null,
   "id": "7dc7c00c",
   "metadata": {},
   "outputs": [],
   "source": [
    "WT=[]\n",
    "het=[]\n",
    "hom=[]\n",
    "WT_M=[]\n",
    "het_M=[]\n",
    "hom_M= []\n",
    "Stimul=[]\n",
    "\n",
    "for i in range (1,11):\n",
    "    Stimul.append((i-1)*2/9)\n",
    "    \n",
    "plt.rcParams[\"figure.figsize\"] = [7.50, 3.50]\n",
    "plt.rcParams[\"figure.autolayout\"] = True\n",
    "\n",
    "\n",
    "plt.plot(Stimul, WT_M, label='WT_M')\n",
    "plt.plot(Stimul, het_M, label='Het_M')\n",
    "plt.plot(Stimul, hom_M, label='Hom_M')\n",
    "plt.ylabel('nAPs for 500ms epoch')\n",
    "plt.xlabel('Stim [nA]')\n",
    "plt.legend()\n",
    "plt.savefig(f'M1TT')  \n",
    "\n",
    "\n",
    "plt.rcParams[\"figure.figsize\"] = [7.50, 3.50]\n",
    "plt.rcParams[\"figure.autolayout\"] = True\n",
    "\n",
    "\n",
    "plt.plot(Stimul, WT, label='WT_M')\n",
    "plt.plot(Stimul, het, label='Het_M')\n",
    "plt.plot(Stimul, hom, label='Hom_M')\n",
    "plt.ylabel('nAPs for 500ms epoch')\n",
    "plt.xlabel('Stim [nA]')\n",
    "plt.legend()\n",
    "plt.savefig(f'Without_M1TT')  "
   ]
  },
  {
   "cell_type": "markdown",
   "id": "e3e58e12",
   "metadata": {},
   "source": [
    "# WT"
   ]
  },
  {
   "cell_type": "code",
   "execution_count": null,
   "id": "b423fb1b",
   "metadata": {
    "scrolled": false
   },
   "outputs": [],
   "source": [
    "import Developing_12HMM as Dev\n",
    "import matplotlib.pyplot as plt\n",
    "import numpy as np\n",
    "import NrnHelper as NH\n",
    "import Na12ModelGY as Mature\n",
    "\n",
    "mut_name =  'na12_orig1'\n",
    "na12name = 'na12_orig1'\n",
    "na16name = 'na12_orig1'\n",
    "mut16_name =  'na12_orig1'\n",
    "\n",
    "peaks=[]\n",
    "names =[]\n",
    "\n",
    "for i in np.arange(0.01,4,0.1):\n",
    "    KP=i\n",
    "    sim = Mature.Na12ModelGY(na12name = na12name , mut_name = mut_name, KP=KP)\n",
    "    p = sim.plot_fi_curve(0,2,10,fn = f'WT_KP:{KP}')\n",
    "    peaks.append(p)\n",
    "    names.append(f'WT_KP:{KP}')\n",
    "\n",
    "    \n",
    "WT_names=[]\n",
    "peaks_WT=[]\n",
    "#before M1TTPC2 [0, 5, 15, 23, 29, 33, 38, 42, 47, 52]\n",
    "#After [0, 0, 5, 11, 14, 19, 25, 28, 31, 34]\n",
    "#KT=KP=1 [0, 0, 5, 11, 14, 19, 25, 28, 31, 34]\n",
    "#KT=0.0125 KP=1 [0, 0, 5, 11, 14, 20, 25, 29, 32, 34]\n",
    "#KT=1 Kp=4 [0, 0, 3, 9, 12, 15, 18, 22, 25, 27]\n",
    "#KT=5 Kp=1 [0, 0, 5, 11, 14, 19, 24, 28, 30, 33]\n"
   ]
  },
  {
   "cell_type": "code",
   "execution_count": null,
   "id": "768138fc",
   "metadata": {},
   "outputs": [],
   "source": [
    "WT_names=['WT_KP:0.01', 'WT_KP:0.11', 'WT_KP:0.21000000000000002', 'WT_KP:0.31000000000000005', 'WT_KP:0.41000000000000003', 'WT_KP:0.51', 'WT_KP:0.6100000000000001', 'WT_KP:0.7100000000000001', 'WT_KP:0.81', 'WT_KP:0.91', 'WT_KP:1.01', 'WT_KP:1.11', 'WT_KP:1.2100000000000002', 'WT_KP:1.31', 'WT_KP:1.4100000000000001', 'WT_KP:1.51', 'WT_KP:1.61', 'WT_KP:1.7100000000000002', 'WT_KP:1.81', 'WT_KP:1.9100000000000001', 'WT_KP:2.01', 'WT_KP:2.11', 'WT_KP:2.21', 'WT_KP:2.31', 'WT_KP:2.41', 'WT_KP:2.51', 'WT_KP:2.61', 'WT_KP:2.71', 'WT_KP:2.81', 'WT_KP:2.91', 'WT_KP:3.01', 'WT_KP:3.11', 'WT_KP:3.21', 'WT_KP:3.31', 'WT_KP:3.41', 'WT_KP:3.51', 'WT_KP:3.61', 'WT_KP:3.71', 'WT_KP:3.81', 'WT_KP:3.91']\n",
    "peaks_WT=[[0, 0, 7, 12, 16, 24, 29, 33, 36, 39], [0, 0, 6, 12, 16, 24, 29, 32, 35, 38], [0, 0, 6, 12, 16, 23, 28, 32, 35, 38], [0, 0, 6, 12, 16, 23, 28, 31, 34, 37], [0, 0, 6, 12, 15, 21, 27, 31, 34, 37], [0, 0, 6, 11, 15, 22, 27, 30, 33, 36], [0, 0, 6, 11, 15, 21, 27, 30, 33, 35], [0, 0, 6, 11, 15, 20, 26, 30, 32, 35], [0, 0, 6, 11, 15, 20, 26, 29, 32, 35], [0, 0, 5, 11, 14, 20, 25, 29, 32, 34], [0, 0, 5, 11, 14, 19, 25, 29, 31, 34], [0, 0, 5, 11, 14, 19, 25, 28, 31, 33], [0, 0, 5, 11, 14, 19, 24, 28, 31, 33], [0, 0, 5, 11, 14, 19, 24, 27, 30, 33], [0, 0, 5, 11, 14, 19, 23, 28, 30, 33], [0, 0, 5, 10, 14, 18, 23, 27, 30, 32], [0, 0, 5, 10, 14, 19, 23, 27, 29, 32], [0, 0, 5, 10, 14, 19, 22, 27, 29, 32], [0, 0, 5, 10, 13, 18, 22, 27, 29, 31], [0, 0, 5, 10, 13, 18, 22, 26, 29, 31], [0, 0, 4, 10, 13, 17, 22, 26, 28, 31], [0, 0, 4, 10, 13, 17, 21, 25, 28, 30], [0, 0, 4, 10, 13, 17, 21, 25, 28, 30], [0, 0, 4, 10, 13, 18, 21, 25, 28, 30], [0, 0, 4, 10, 13, 17, 20, 24, 27, 30], [0, 0, 4, 9, 13, 17, 20, 24, 27, 29], [0, 0, 4, 9, 13, 17, 20, 24, 27, 29], [0, 0, 4, 9, 13, 17, 20, 24, 27, 29], [0, 0, 4, 9, 13, 16, 20, 23, 27, 29], [0, 0, 4, 9, 13, 16, 20, 23, 26, 29], [0, 0, 4, 9, 13, 16, 19, 23, 26, 29], [0, 0, 3, 9, 13, 16, 19, 23, 26, 28], [0, 0, 3, 9, 13, 16, 19, 23, 26, 28], [0, 0, 3, 9, 12, 16, 19, 22, 26, 28], [0, 0, 3, 9, 12, 16, 19, 22, 25, 28], [0, 0, 3, 9, 12, 15, 19, 22, 25, 28], [0, 0, 3, 9, 12, 15, 19, 22, 25, 27], [0, 0, 3, 9, 12, 15, 18, 22, 25, 27], [0, 0, 2, 9, 12, 15, 18, 22, 25, 27], [0, 0, 2, 9, 12, 15, 18, 21, 24, 27]]\n"
   ]
  },
  {
   "cell_type": "markdown",
   "id": "54503514",
   "metadata": {},
   "source": [
    "# Het"
   ]
  },
  {
   "cell_type": "code",
   "execution_count": null,
   "id": "6e8017db",
   "metadata": {
    "scrolled": true
   },
   "outputs": [],
   "source": [
    "import Developing_12HMM as Dev\n",
    "import matplotlib.pyplot as plt\n",
    "import numpy as np\n",
    "import NrnHelper as NH\n",
    "import Na12ModelGY as Mature\n",
    "mut_name = 'na12_R850p_tauless2000'\n",
    "na12name = 'na12_orig1'\n",
    "na16name = 'na12_orig1'\n",
    "mut16_name = 'na12_R850p_tauless2000'\n",
    "\n",
    "peaks=[]\n",
    "names =[]\n",
    "\n",
    "for i in np.arange(0.01,4,0.1):\n",
    "    KP=i\n",
    "    sim = Mature.Na12ModelGY(na12name = na12name , mut_name = mut_name, KP=KP)\n",
    "    p = sim.plot_fi_curve(0,2,10,fn = f'Het_KP:{KP}')\n",
    "    peaks.append(p)\n",
    "    names.append(f'Het_KP:{KP}')   \n",
    "print(peaks)\n",
    "print(names)"
   ]
  },
  {
   "cell_type": "code",
   "execution_count": null,
   "id": "72eec728",
   "metadata": {},
   "outputs": [],
   "source": [
    "het_names=['Het_KP:0.01', 'Het_KP:0.11', 'Het_KP:0.21000000000000002', 'Het_KP:0.31000000000000005', 'Het_KP:0.41000000000000003', 'Het_KP:0.51', 'Het_KP:0.6100000000000001', 'Het_KP:0.7100000000000001', 'Het_KP:0.81', 'Het_KP:0.91', 'Het_KP:1.01', 'Het_KP:1.11', 'Het_KP:1.2100000000000002', 'Het_KP:1.31', 'Het_KP:1.4100000000000001', 'Het_KP:1.51', 'Het_KP:1.61', 'Het_KP:1.7100000000000002', 'Het_KP:1.81', 'Het_KP:1.9100000000000001', 'Het_KP:2.01', 'Het_KP:2.11', 'Het_KP:2.21', 'Het_KP:2.31', 'Het_KP:2.41', 'Het_KP:2.51', 'Het_KP:2.61', 'Het_KP:2.71', 'Het_KP:2.81', 'Het_KP:2.91', 'Het_KP:3.01', 'Het_KP:3.11', 'Het_KP:3.21', 'Het_KP:3.31', 'Het_KP:3.41', 'Het_KP:3.51', 'Het_KP:3.61', 'Het_KP:3.71', 'Het_KP:3.81', 'Het_KP:3.91']\n",
    "peaks_het=[[0, 0, 6, 11, 16, 22, 27, 31, 35, 38], [0, 0, 6, 11, 16, 22, 27, 30, 35, 37], [0, 0, 6, 11, 16, 21, 26, 30, 34, 36], [0, 0, 6, 11, 16, 22, 26, 30, 33, 36], [0, 0, 6, 11, 16, 21, 26, 29, 33, 35], [0, 0, 6, 11, 15, 20, 26, 29, 32, 35], [0, 0, 6, 11, 16, 20, 25, 29, 32, 35], [0, 0, 6, 11, 14, 20, 25, 28, 32, 34], [0, 0, 5, 11, 14, 19, 25, 28, 31, 34], [0, 0, 5, 11, 14, 19, 25, 28, 31, 33], [0, 0, 5, 11, 14, 19, 24, 27, 30, 33], [0, 0, 5, 10, 14, 19, 24, 27, 30, 32], [0, 0, 5, 10, 14, 19, 23, 27, 29, 32], [0, 0, 5, 10, 14, 18, 23, 27, 29, 32], [0, 0, 5, 10, 14, 18, 22, 27, 29, 31], [0, 0, 5, 10, 13, 18, 22, 26, 29, 31], [0, 0, 5, 10, 13, 17, 22, 26, 28, 31], [0, 0, 5, 10, 13, 18, 22, 26, 28, 31], [0, 0, 5, 10, 13, 17, 21, 25, 28, 30], [0, 0, 4, 10, 13, 17, 21, 25, 28, 30], [0, 0, 4, 10, 13, 17, 21, 25, 27, 30], [0, 0, 4, 10, 13, 17, 20, 25, 27, 30], [0, 0, 4, 10, 13, 17, 20, 24, 27, 29], [0, 0, 4, 9, 13, 17, 20, 24, 27, 29], [0, 0, 4, 9, 13, 16, 20, 24, 27, 29], [0, 0, 4, 9, 13, 16, 20, 24, 26, 29], [0, 0, 4, 9, 13, 16, 20, 24, 26, 29], [0, 0, 4, 9, 13, 16, 19, 23, 26, 28], [0, 0, 4, 9, 13, 16, 19, 23, 26, 28], [0, 0, 4, 9, 13, 16, 19, 23, 26, 28], [0, 0, 3, 9, 12, 16, 19, 23, 25, 28], [0, 0, 3, 9, 12, 16, 19, 22, 25, 27], [0, 0, 3, 9, 12, 16, 19, 22, 25, 27], [0, 0, 3, 9, 12, 15, 18, 22, 25, 27], [0, 0, 3, 9, 12, 15, 18, 22, 25, 27], [0, 0, 3, 9, 12, 15, 18, 22, 25, 27], [0, 0, 3, 9, 12, 15, 18, 21, 25, 27], [0, 0, 2, 8, 12, 15, 18, 21, 24, 27], [0, 0, 2, 8, 12, 15, 18, 21, 24, 26], [0, 0, 2, 8, 12, 15, 18, 21, 24, 26]]"
   ]
  },
  {
   "cell_type": "markdown",
   "id": "3ec78c21",
   "metadata": {},
   "source": [
    "# Hom"
   ]
  },
  {
   "cell_type": "code",
   "execution_count": null,
   "id": "a630dacd",
   "metadata": {
    "scrolled": true
   },
   "outputs": [],
   "source": [
    "import Developing_12HMM as Dev\n",
    "import matplotlib.pyplot as plt\n",
    "import numpy as np\n",
    "import NrnHelper as NH\n",
    "import Na12ModelGY as Mature\n",
    "mut_name = 'na12_R850p_tauless2000'\n",
    "na12name = 'na12_R850p_tauless2000'\n",
    "na16name = 'na12_R850p_tauless2000'\n",
    "mut16_name = 'na12_R850p_tauless2000'\n",
    "\n",
    "peaks=[]\n",
    "names =[]\n",
    "\n",
    "for i in np.arange(0.01,4,0.1):\n",
    "    KP=i\n",
    "    sim = Mature.Na12ModelGY(na12name = na12name , mut_name = mut_name, KP=KP)\n",
    "    p = sim.plot_fi_curve(0,2,10,fn = f'Hom_KP:{KP}')\n",
    "    peaks.append(p)\n",
    "    names.append(f'Hom_KP:{KP}')  \n",
    "\n",
    "print(peaks)\n",
    "print(names)"
   ]
  },
  {
   "cell_type": "code",
   "execution_count": null,
   "id": "15b30e22",
   "metadata": {},
   "outputs": [],
   "source": [
    "hom_names=[]\n",
    "peaks_hom=[]"
   ]
  },
  {
   "cell_type": "markdown",
   "id": "4d3988cc",
   "metadata": {},
   "source": [
    "# Plot WT/HET/Hom differnces at each KP in a separate plot"
   ]
  },
  {
   "cell_type": "code",
   "execution_count": null,
   "id": "802c83ec",
   "metadata": {},
   "outputs": [],
   "source": [
    "Stimul=[]\n",
    "for i in range (1,11):\n",
    "    Stimul.append((i-1)*2/9)\n",
    "    \n",
    "plt.rcParams[\"figure.figsize\"] = [7.50, 3.50]\n",
    "plt.rcParams[\"figure.autolayout\"] = True\n",
    "\n",
    "for m in range(len(WT_names)):\n",
    "    plt.plot(Stimul, peaks_WT[m], label=WT_names[m][0:10])\n",
    "    plt.plot(Stimul, peaks_het[m], label=het_names[m][0:10])\n",
    "    plt.plot(Stimul, peaks_hom[m], label=hom_names[m][0:10])\n",
    "    plt.ylabel('nAPs for 500ms epoch')\n",
    "    plt.xlabel('Stim [nA]')\n",
    "    plt.legend()\n",
    "    plt.savefig(f'KP:{KP}')  \n"
   ]
  },
  {
   "cell_type": "markdown",
   "id": "16705aa3",
   "metadata": {},
   "source": [
    "# Plot WT/Het/Hom average nAP at each KP"
   ]
  },
  {
   "cell_type": "code",
   "execution_count": null,
   "id": "fd2e783f",
   "metadata": {},
   "outputs": [],
   "source": [
    "\n",
    "KP_list=[]\n",
    "WT=[] \n",
    "Het=[]\n",
    "Hom=[]\n",
    "for i in np.arange(0.01,4,0.1):\n",
    "    KP_list.append(i)\n",
    "    \n",
    "#recieves a list and gives the average\n",
    "def ave(peaks):\n",
    "    diff = 0\n",
    "    for i in range(len(peaks)):\n",
    "        diff += peaks[i]\n",
    "    return diff/len(peaks)\n",
    "\n",
    "#give all the lists in WT(or het or hom)to ave to get the average nAP for each KP\n",
    "for i in range(len(peaks_WT)):\n",
    "    WT.append(ave(peaks_WT[i]))\n",
    "    Het.append(ave(peaks_het[i]))\n",
    "    Hom.append(ave(peaks_hom[i]))\n",
    "    \n",
    "plt.rcParams[\"figure.figsize\"] = [7.50, 3.50]\n",
    "plt.rcParams[\"figure.autolayout\"] = True\n",
    "plt.plot(KP_list, het, label='Het')\n",
    "plt.plot(KP_list, hom, label='Hom')\n",
    "plt.plot(KP_list, WT, label = 'WT')\n",
    "plt.ylabel('Average nAP')\n",
    "plt.xlabel('KP')\n",
    "plt.legend()\n",
    "plt.savefig(f'WT_Het_tauless2000')  "
   ]
  },
  {
   "cell_type": "markdown",
   "id": "247b396c",
   "metadata": {},
   "source": [
    "# Garbage\n"
   ]
  },
  {
   "cell_type": "code",
   "execution_count": null,
   "id": "e7cbafa4",
   "metadata": {},
   "outputs": [],
   "source": [
    "    \n",
    "def ave(WT_peaks, het_peaks):\n",
    "    diff = 0\n",
    "    for i in range(len(WT_peaks)):\n",
    "        diff += WT_peaks[i] - het_peaks[i]\n",
    " \n",
    "    return diff/len(WT_peaks)\n",
    "X=[]\n",
    "dif=[]\n",
    "for i in np.arange(0.01,4,0.1):\n",
    "    X.append(i)\n",
    "    \n",
    "for i in range(len(peaks_WT)):\n",
    "    dif.append(ave(peaks_WT[i], peaks_het[i]))\n",
    "    #print(f'KP:{X[i]}, Difference :{ave(peaks_WT[i], peaks_het[i])}') #Differnce= average number of APs for WT-Het\n",
    "\n",
    "plt.rcParams[\"figure.figsize\"] = [7.50, 3.50]\n",
    "plt.rcParams[\"figure.autolayout\"] = True\n",
    "plt.plot(X,dif)\n",
    "plt.ylabel('Differnce in AP')\n",
    "plt.xlabel('KP')\n",
    "plt.legend()\n",
    "plt.savefig(f'WT_Het_tauless2000')  "
   ]
  },
  {
   "cell_type": "code",
   "execution_count": null,
   "id": "92f9dc3e",
   "metadata": {},
   "outputs": [],
   "source": [
    "WT = [0, 0, 5, 11, 14, 19, 25, 28, 31, 34]\n",
    "het = [0, 0, 5, 11, 14, 19, 24, 27, 30, 33]\n",
    "hom =[0, 0, 5, 11, 14, 19, 24, 26, 29, 32]\n",
    "\n",
    "X = []\n",
    "for i in range (1,11):\n",
    "    X.append((i-1)*2/9)\n",
    "print(X)\n",
    "plt.rcParams[\"figure.figsize\"] = [7.50, 3.50]\n",
    "plt.rcParams[\"figure.autolayout\"] = True\n",
    "plt.plot(X, het, label='Het')\n",
    "plt.plot(X, hom, label='Hom')\n",
    "plt.plot(X, WT, label = 'WT')\n",
    "plt.ylabel('nAPs for 500ms epoch')\n",
    "plt.xlabel('Stim [nA]')\n",
    "plt.legend()\n",
    "plt.savefig('Mature_tauless_R.pdf')"
   ]
  },
  {
   "cell_type": "code",
   "execution_count": null,
   "id": "0e990e01",
   "metadata": {},
   "outputs": [],
   "source": [
    "import matplotlib.pyplot as plt\n",
    "import numpy as np\n",
    "import NrnHelper as NH\n",
    "import Na12ModelGY as Mature\n",
    "mut_name = 'na12_R850p_tauless2000'\n",
    "na12name =  'na12_orig1'\n",
    "na16name =  'na12_orig1'\n",
    "mut16_name = 'na12_R850p_tauless2000'\n",
    "peaks=[]\n",
    "names =[]\n",
    "X=[]\n",
    "KT=1.1\n",
    "\n",
    "for i in np.arange(0.01,2,0.5):\n",
    "    KP=i\n",
    "    sim = Mature.Na12ModelGY(na12name = na12name , mut_name = mut_name, KT=KT, KP=KP)\n",
    "    p = sim.plot_fi_curve(0,1,8,fn = f'Hom_KT:{KT}_KP:{KP}')\n",
    "    peaks.append(p)\n",
    "    names.append(f'Hom_KT:{KT}_KP:{KP}')\n",
    "    \n",
    "KT=2   \n",
    "for i in np.arange(0.01,2,0.5):\n",
    "    KP=i\n",
    "    sim = Mature.Na12ModelGY(na12name = na12name , mut_name = mut_name, KT=KT, KP=KP)\n",
    "    p = sim.plot_fi_curve(0,1,8,fn = f'Hom_KT:{KT}_KP:{KP}')\n",
    "    peaks.append(p)\n",
    "    names.append(f'Hom_KT:{KT}_KP:{KP}')\n",
    "\n",
    "for i in range (1,9):\n",
    "    X.append((i-1)*2/7)\n",
    "    \n",
    "plt.rcParams[\"figure.figsize\"] = [7.50, 3.50]\n",
    "plt.rcParams[\"figure.autolayout\"] = True\n",
    "\n",
    "for m in names:  \n",
    "    plt.plot(X, peaks[names.index(m)], label=m)\n",
    "\n",
    "plt.ylabel('nAPs for 500ms epoch')\n",
    "plt.xlabel('Stim [nA]')\n",
    "plt.legend()\n",
    "plt.savefig('R850P_tauless2000_het.pdf')   \n",
    "    "
   ]
  },
  {
   "cell_type": "code",
   "execution_count": null,
   "id": "b96ca8eb",
   "metadata": {},
   "outputs": [],
   "source": [
    "sim = Dev.Developing_12HMM(mut_name = mut_name, na12name = na12name ,na16name = na16name , mut16_name = mut16_name, KT=1, KP=1)\n",
    "sim.plot_fi_curve(0,2,8,fn = f'Hom_KT:1_KP:1')"
   ]
  },
  {
   "cell_type": "code",
   "execution_count": null,
   "id": "74ff8ecd",
   "metadata": {},
   "outputs": [],
   "source": [
    "\n",
    "\"\"\"\n",
    "for i in np.arange(0.1,5,1):\n",
    "    for j in np.arange(0.1,5,1):\n",
    "        KT=i\n",
    "        KP=j\n",
    "        sim = Dev.Developing_12HMM(mut_name = mut_name, na12name = na12name ,na16name = na16name , mut16_name = mut16_name,KT=KT, KP=KP)\n",
    "        sim.plot_fi_curve(0,2,8,fn = f'KT:{KT}_KP:{KP}')\n",
    "\n",
    "sim = Dev.Developing_12HMM(mut_name = mut_name, na12name = na12name ,na16name = na16name , mut16_name = mut16_name)\n",
    "sim.plot_fi_curve(0,5,10,fn = f'KT:0.1_KP:0.1')\n",
    "#sim.plot_stim(stim_amp = 2,dt = 0.05)\n",
    "\"\"\""
   ]
  },
  {
   "cell_type": "code",
   "execution_count": null,
   "id": "050196b7",
   "metadata": {},
   "outputs": [],
   "source": [
    "sim = Dev.Developing_12HMM(mut_name = mut_name, na12name = na12name ,na16name = na16name , mut16_name = mut16_name,KT=0.1, KP=0.1)\n",
    "sim.plot_fi_curve(0,5,31,fn = f'Hom_KT:0.1_KP:0.1')"
   ]
  },
  {
   "cell_type": "code",
   "execution_count": null,
   "id": "9bf321cc",
   "metadata": {},
   "outputs": [],
   "source": [
    "sim =  Dev.Developing_12HMM(mut_name = mut_name, na12name = na12name ,na16name = na16name , mut16_name = mut16_name)\n",
    "I,t= sim.plot_axonal_ks()\n",
    "Na = I['Na'] \n",
    "K = I['K'] \n",
    "K31 = I['K31'] \n",
    "KT= I['KT'] \n",
    "KCa= I['KCa'] \n",
    "KP= I['KP'] \n",
    "\n",
    "plt.rcParams[\"figure.figsize\"] = [7.50, 3.50]\n",
    "plt.rcParams[\"figure.autolayout\"] = True\n",
    "plt.plot(t,I['Na'],label = 'Na',color = 'red')\n",
    "plt.plot(t,I['K'],label = 'K',color = 'black')\n",
    "plt.plot(t,I['K31'],label = 'K31',color = 'green')\n",
    "plt.plot(t,I['KP'],label = 'KP',color = 'orange')\n",
    "plt.plot(t,I['KT'],label = 'KT',color = 'yellow')\n",
    "plt.plot(t,I['KCa'],label = 'KCa',color = 'grey')\n",
    "plt.legend()\n",
    "plt.savefig('ions_hom.pdf')"
   ]
  },
  {
   "cell_type": "code",
   "execution_count": null,
   "id": "cb5aa005",
   "metadata": {},
   "outputs": [],
   "source": [
    "import Developing_12HMM as Dev\n",
    "import matplotlib.pyplot as plt\n",
    "import numpy as np\n",
    "import NrnHelper as NH\n"
   ]
  },
  {
   "cell_type": "markdown",
   "id": "2c63acd4",
   "metadata": {},
   "source": [
    "WT"
   ]
  },
  {
   "cell_type": "code",
   "execution_count": null,
   "id": "f699b802",
   "metadata": {},
   "outputs": [],
   "source": [
    "mut_name = 'na12_orig1'\n",
    "na12name = 'na12_orig1'\n",
    "na16name = 'na12_orig1'\n",
    "mut16_name = 'na12_orig1'\n",
    "\n",
    "peaks_Na=[]\n",
    "for i in np.arange(2,4,0.5):\n",
    "    Na16=i\n",
    "    Na12=i\n",
    "    sim = Dev.Developing_12HMM(mut_name = mut_name, na12name = na12name ,na16name = na16name , mut16_name = mut16_name, soma_na16=i, soma_na12=j ,KT=3, KP=1)\n",
    "    p = sim.plot_fi_curve(0,2,8,fn = f'WT_Na16:{Na16}_Na12:{Na12}')\n",
    "    peaks_Na.append(p)\n",
    "        \n",
    "print(peaks_Na)\n",
    "\"\"\"\n",
    "np.arange(1,2,0.1)\n",
    "[[0, 0, 0, 0, 0, 0, 1, 1], [0, 0, 0, 0, 0, 0, 1, 1], [0, 0, 0, 0, 0, 0, 1, 1], [0, 0, 0, 0, 0, 0, 1, 1], [0, 0, 0, 0, 0, 0, 1, 1], [0, 0, 0, 0, 0, 0, 1, 1], [0, 0, 0, 0, 0, 0, 1, 1], [0, 0, 0, 0, 0, 0, 1, 1], [0, 0, 0, 0, 0, 0, 1, 1], [0, 0, 0, 0, 0, 0, 1, 1]]\n",
    "\"\"\"       "
   ]
  },
  {
   "cell_type": "markdown",
   "id": "e7835140",
   "metadata": {},
   "source": [
    "Het"
   ]
  },
  {
   "cell_type": "code",
   "execution_count": null,
   "id": "fdf45cea",
   "metadata": {},
   "outputs": [],
   "source": [
    "\n",
    "mut_name = 'na12_R850P_old'\n",
    "na12name = 'na12_orig1'\n",
    "na16name = 'na12_orig1'\n",
    "mut16_name = 'na12_R850P_old'\n",
    "\n",
    "for i in np.arange(0.1,1,0.1):\n",
    "    for j in np.arange(0.1,1,0.1):\n",
    "        Na16=i\n",
    "        Na12=j\n",
    "        sim = Dev.Developing_12HMM(mut_name = mut_name, na12name = na12name ,na16name = na16name , mut16_name = mut16_name,soma_na16=i, soma_na12= j,KT=3, KP=1)\n",
    "        sim.plot_fi_curve(0,2,8,fn = f'Het_Na16:{Na16}_Na12:{Na12}')"
   ]
  },
  {
   "cell_type": "markdown",
   "id": "2679d1ae",
   "metadata": {},
   "source": [
    "Hom"
   ]
  },
  {
   "cell_type": "code",
   "execution_count": null,
   "id": "cb63bd02",
   "metadata": {},
   "outputs": [],
   "source": [
    "mut_name = 'na12_R850P_old'\n",
    "na12name = 'na12_R850P_old'\n",
    "na16name = 'na12_R850P_old'\n",
    "mut16_name = 'na12_R850P_old'\n",
    "\n",
    "for i in np.arange(0.1,1,0.1):\n",
    "    for j in np.arange(0.1,1,0.1):\n",
    "        Na16=i\n",
    "        Na12=j\n",
    "        sim = Dev.Developing_12HMM(mut_name = mut_name, na12name = na12name ,na16name = na16name , mut16_name = mut16_name,soma_na16=i, soma_na12= j,KT=3, KP=1)\n",
    "        sim.plot_fi_curve(0,2,8,fn = f'Hom_Na16:{Na16}_Na12:{Na12}')"
   ]
  }
 ],
 "metadata": {
  "kernelspec": {
   "display_name": "Python 3 (ipykernel)",
   "language": "python",
   "name": "python3"
  },
  "language_info": {
   "codemirror_mode": {
    "name": "ipython",
    "version": 3
   },
   "file_extension": ".py",
   "mimetype": "text/x-python",
   "name": "python",
   "nbconvert_exporter": "python",
   "pygments_lexer": "ipython3",
   "version": "3.8.10"
  },
  "vscode": {
   "interpreter": {
    "hash": "916dbcbb3f70747c44a77c7bcd40155683ae19c65e1c03b4aa3499c5328201f1"
   }
  }
 },
 "nbformat": 4,
 "nbformat_minor": 5
}

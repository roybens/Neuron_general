{
 "cells": [
  {
   "cell_type": "markdown",
   "id": "62ee3ee1",
   "metadata": {},
   "source": [
    "\n",
    "# Developing_12HMM\n"
   ]
  },
  {
   "cell_type": "markdown",
   "id": "53af245c",
   "metadata": {},
   "source": [
    "## KT/KP Effect"
   ]
  },
  {
   "cell_type": "markdown",
   "id": "e3e58e12",
   "metadata": {},
   "source": [
    "# WT"
   ]
  },
  {
   "cell_type": "code",
   "execution_count": null,
   "id": "b423fb1b",
   "metadata": {
    "scrolled": true
   },
   "outputs": [],
   "source": [
    "import Developing_12HMM as Dev\n",
    "import matplotlib.pyplot as plt\n",
    "import numpy as np\n",
    "import NrnHelper as NH\n",
    "import Na12ModelGY as Mature\n",
    "\n",
    "mut_name =  'na12_orig1'\n",
    "na12name = 'na12_orig1'\n",
    "na16name = 'na12_orig1'\n",
    "mut16_name =  'na12_orig1'\n",
    "\n",
    "\"\"\"\n",
    "for i in np.arange(0.1,5,1):\n",
    "    for j in np.arange(0.1,5,1):\n",
    "        KT=i\n",
    "        KP=j\n",
    "        sim = Dev.Developing_12HMM(mut_name = mut_name, na12name = na12name ,na16name = na16name , mut16_name = mut16_name,KT=KT, KP=KP)\n",
    "        sim.plot_fi_curve(0,2,8,fn = f'KT:{KT}_KP:{KP}')\n",
    "\n",
    "sim = Dev.Developing_12HMM(mut_name = mut_name, na12name = na12name ,na16name = na16name , mut16_name = mut16_name)\n",
    "sim.plot_fi_curve(0,5,10,fn = f'KT:0.1_KP:0.1')\n",
    "#sim.plot_stim(stim_amp = 2,dt = 0.05)\n",
    "\"\"\"\n"
   ]
  },
  {
   "cell_type": "code",
   "execution_count": 2,
   "id": "9bf321cc",
   "metadata": {},
   "outputs": [
    {
     "name": "stdout",
     "output_type": "stream",
     "text": [
      "running model at /ghazaleh/Developing_12HMM run dir is /ghazaleh\n",
      "\t1 \n",
      "\t1 \n",
      "Setting temperature to 34.000000 C\n",
      "Setting simulation time step to 0.100000 ms\n",
      "\t1 \n",
      "\t1 \n",
      "\t1 \n",
      "\t1 \n",
      "\t1 \n",
      "\t1 \n",
      "\t1 \n",
      "\t1 \n",
      "\t1 \n",
      "\t1 \n",
      "ran working\n",
      "\t1 \n",
      "\t1 \n",
      "\t1 \n",
      "**********************\n",
      "cADpyr232_L5_TTPC1_0fb1ca4724[0].soma[0]\n",
      "1 \n",
      "1 \n",
      "1 \n",
      "\t1 \n",
      "ran working\n",
      "ran working\n",
      "\t1 \n",
      "\t1 \n",
      "ran working\n",
      "cADpyr232_L5_TTPC1_0fb1ca4724[0].soma[0].mtaumul_SKv3_1 = 6\n",
      "cADpyr232_L5_TTPC1_0fb1ca4724[0].apic[0].mtaumul_SKv3_1 = 6\n",
      "cADpyr232_L5_TTPC1_0fb1ca4724[0].axon[0].mtaumul_SKv3_1 = 6\n",
      "cADpyr232_L5_TTPC1_0fb1ca4724[0].apic[114].mtaumul_SKv3_1 = 6\n",
      "cADpyr232_L5_TTPC1_0fb1ca4724[0].apic[1].mtaumul_SKv3_1 = 6\n",
      "cADpyr232_L5_TTPC1_0fb1ca4724[0].axon[1].mtaumul_SKv3_1 = 6\n",
      "cADpyr232_L5_TTPC1_0fb1ca4724[0].apic[122].mtaumul_SKv3_1 = 6\n",
      "cADpyr232_L5_TTPC1_0fb1ca4724[0].apic[115].mtaumul_SKv3_1 = 6\n",
      "cADpyr232_L5_TTPC1_0fb1ca4724[0].apic[3].mtaumul_SKv3_1 = 6\n",
      "cADpyr232_L5_TTPC1_0fb1ca4724[0].apic[2].mtaumul_SKv3_1 = 6\n",
      "cADpyr232_L5_TTPC1_0fb1ca4724[0].apic[121].mtaumul_SKv3_1 = 6\n",
      "cADpyr232_L5_TTPC1_0fb1ca4724[0].apic[116].mtaumul_SKv3_1 = 6\n",
      "cADpyr232_L5_TTPC1_0fb1ca4724[0].apic[5].mtaumul_SKv3_1 = 6\n",
      "cADpyr232_L5_TTPC1_0fb1ca4724[0].apic[4].mtaumul_SKv3_1 = 6\n",
      "cADpyr232_L5_TTPC1_0fb1ca4724[0].apic[120].mtaumul_SKv3_1 = 6\n",
      "cADpyr232_L5_TTPC1_0fb1ca4724[0].apic[117].mtaumul_SKv3_1 = 6\n",
      "cADpyr232_L5_TTPC1_0fb1ca4724[0].apic[17].mtaumul_SKv3_1 = 6\n",
      "cADpyr232_L5_TTPC1_0fb1ca4724[0].apic[6].mtaumul_SKv3_1 = 6\n",
      "cADpyr232_L5_TTPC1_0fb1ca4724[0].apic[119].mtaumul_SKv3_1 = 6\n",
      "cADpyr232_L5_TTPC1_0fb1ca4724[0].apic[118].mtaumul_SKv3_1 = 6\n",
      "cADpyr232_L5_TTPC1_0fb1ca4724[0].apic[113].mtaumul_SKv3_1 = 6\n",
      "cADpyr232_L5_TTPC1_0fb1ca4724[0].apic[18].mtaumul_SKv3_1 = 6\n",
      "cADpyr232_L5_TTPC1_0fb1ca4724[0].apic[12].mtaumul_SKv3_1 = 6\n",
      "cADpyr232_L5_TTPC1_0fb1ca4724[0].apic[7].mtaumul_SKv3_1 = 6\n",
      "cADpyr232_L5_TTPC1_0fb1ca4724[0].apic[30].mtaumul_SKv3_1 = 6\n",
      "cADpyr232_L5_TTPC1_0fb1ca4724[0].apic[19].mtaumul_SKv3_1 = 6\n",
      "cADpyr232_L5_TTPC1_0fb1ca4724[0].apic[14].mtaumul_SKv3_1 = 6\n",
      "cADpyr232_L5_TTPC1_0fb1ca4724[0].apic[13].mtaumul_SKv3_1 = 6\n",
      "cADpyr232_L5_TTPC1_0fb1ca4724[0].apic[11].mtaumul_SKv3_1 = 6\n",
      "cADpyr232_L5_TTPC1_0fb1ca4724[0].apic[8].mtaumul_SKv3_1 = 6\n",
      "cADpyr232_L5_TTPC1_0fb1ca4724[0].apic[34].mtaumul_SKv3_1 = 6\n",
      "cADpyr232_L5_TTPC1_0fb1ca4724[0].apic[31].mtaumul_SKv3_1 = 6\n",
      "cADpyr232_L5_TTPC1_0fb1ca4724[0].apic[27].mtaumul_SKv3_1 = 6\n",
      "cADpyr232_L5_TTPC1_0fb1ca4724[0].apic[20].mtaumul_SKv3_1 = 6\n",
      "cADpyr232_L5_TTPC1_0fb1ca4724[0].apic[16].mtaumul_SKv3_1 = 6\n",
      "cADpyr232_L5_TTPC1_0fb1ca4724[0].apic[15].mtaumul_SKv3_1 = 6\n",
      "cADpyr232_L5_TTPC1_0fb1ca4724[0].apic[10].mtaumul_SKv3_1 = 6\n",
      "cADpyr232_L5_TTPC1_0fb1ca4724[0].apic[9].mtaumul_SKv3_1 = 6\n",
      "cADpyr232_L5_TTPC1_0fb1ca4724[0].apic[36].mtaumul_SKv3_1 = 6\n",
      "cADpyr232_L5_TTPC1_0fb1ca4724[0].apic[35].mtaumul_SKv3_1 = 6\n",
      "cADpyr232_L5_TTPC1_0fb1ca4724[0].apic[33].mtaumul_SKv3_1 = 6\n",
      "cADpyr232_L5_TTPC1_0fb1ca4724[0].apic[32].mtaumul_SKv3_1 = 6\n",
      "cADpyr232_L5_TTPC1_0fb1ca4724[0].apic[29].mtaumul_SKv3_1 = 6\n",
      "cADpyr232_L5_TTPC1_0fb1ca4724[0].apic[28].mtaumul_SKv3_1 = 6\n",
      "cADpyr232_L5_TTPC1_0fb1ca4724[0].apic[24].mtaumul_SKv3_1 = 6\n",
      "cADpyr232_L5_TTPC1_0fb1ca4724[0].apic[21].mtaumul_SKv3_1 = 6\n",
      "cADpyr232_L5_TTPC1_0fb1ca4724[0].apic[38].mtaumul_SKv3_1 = 6\n",
      "cADpyr232_L5_TTPC1_0fb1ca4724[0].apic[37].mtaumul_SKv3_1 = 6\n",
      "cADpyr232_L5_TTPC1_0fb1ca4724[0].apic[26].mtaumul_SKv3_1 = 6\n",
      "cADpyr232_L5_TTPC1_0fb1ca4724[0].apic[25].mtaumul_SKv3_1 = 6\n",
      "cADpyr232_L5_TTPC1_0fb1ca4724[0].apic[23].mtaumul_SKv3_1 = 6\n",
      "cADpyr232_L5_TTPC1_0fb1ca4724[0].apic[22].mtaumul_SKv3_1 = 6\n",
      "cADpyr232_L5_TTPC1_0fb1ca4724[0].apic[40].mtaumul_SKv3_1 = 6\n",
      "cADpyr232_L5_TTPC1_0fb1ca4724[0].apic[39].mtaumul_SKv3_1 = 6\n",
      "cADpyr232_L5_TTPC1_0fb1ca4724[0].apic[52].mtaumul_SKv3_1 = 6\n",
      "cADpyr232_L5_TTPC1_0fb1ca4724[0].apic[41].mtaumul_SKv3_1 = 6\n",
      "cADpyr232_L5_TTPC1_0fb1ca4724[0].apic[54].mtaumul_SKv3_1 = 6\n",
      "cADpyr232_L5_TTPC1_0fb1ca4724[0].apic[53].mtaumul_SKv3_1 = 6\n",
      "cADpyr232_L5_TTPC1_0fb1ca4724[0].apic[47].mtaumul_SKv3_1 = 6\n",
      "cADpyr232_L5_TTPC1_0fb1ca4724[0].apic[42].mtaumul_SKv3_1 = 6\n",
      "cADpyr232_L5_TTPC1_0fb1ca4724[0].apic[64].mtaumul_SKv3_1 = 6\n",
      "cADpyr232_L5_TTPC1_0fb1ca4724[0].apic[55].mtaumul_SKv3_1 = 6\n",
      "cADpyr232_L5_TTPC1_0fb1ca4724[0].apic[51].mtaumul_SKv3_1 = 6\n",
      "cADpyr232_L5_TTPC1_0fb1ca4724[0].apic[48].mtaumul_SKv3_1 = 6\n",
      "cADpyr232_L5_TTPC1_0fb1ca4724[0].apic[46].mtaumul_SKv3_1 = 6\n",
      "cADpyr232_L5_TTPC1_0fb1ca4724[0].apic[43].mtaumul_SKv3_1 = 6\n",
      "cADpyr232_L5_TTPC1_0fb1ca4724[0].apic[66].mtaumul_SKv3_1 = 6\n",
      "cADpyr232_L5_TTPC1_0fb1ca4724[0].apic[65].mtaumul_SKv3_1 = 6\n",
      "cADpyr232_L5_TTPC1_0fb1ca4724[0].apic[59].mtaumul_SKv3_1 = 6\n",
      "cADpyr232_L5_TTPC1_0fb1ca4724[0].apic[56].mtaumul_SKv3_1 = 6\n",
      "cADpyr232_L5_TTPC1_0fb1ca4724[0].apic[50].mtaumul_SKv3_1 = 6\n",
      "cADpyr232_L5_TTPC1_0fb1ca4724[0].apic[49].mtaumul_SKv3_1 = 6\n",
      "cADpyr232_L5_TTPC1_0fb1ca4724[0].apic[45].mtaumul_SKv3_1 = 6\n",
      "cADpyr232_L5_TTPC1_0fb1ca4724[0].apic[44].mtaumul_SKv3_1 = 6\n",
      "cADpyr232_L5_TTPC1_0fb1ca4724[0].apic[98].mtaumul_SKv3_1 = 6\n",
      "cADpyr232_L5_TTPC1_0fb1ca4724[0].apic[67].mtaumul_SKv3_1 = 6\n",
      "cADpyr232_L5_TTPC1_0fb1ca4724[0].apic[61].mtaumul_SKv3_1 = 6\n",
      "cADpyr232_L5_TTPC1_0fb1ca4724[0].apic[60].mtaumul_SKv3_1 = 6\n",
      "cADpyr232_L5_TTPC1_0fb1ca4724[0].apic[58].mtaumul_SKv3_1 = 6\n",
      "cADpyr232_L5_TTPC1_0fb1ca4724[0].apic[57].mtaumul_SKv3_1 = 6\n",
      "cADpyr232_L5_TTPC1_0fb1ca4724[0].apic[104].mtaumul_SKv3_1 = 6\n",
      "cADpyr232_L5_TTPC1_0fb1ca4724[0].apic[99].mtaumul_SKv3_1 = 6\n",
      "cADpyr232_L5_TTPC1_0fb1ca4724[0].apic[69].mtaumul_SKv3_1 = 6\n",
      "cADpyr232_L5_TTPC1_0fb1ca4724[0].apic[68].mtaumul_SKv3_1 = 6\n",
      "cADpyr232_L5_TTPC1_0fb1ca4724[0].apic[63].mtaumul_SKv3_1 = 6\n",
      "cADpyr232_L5_TTPC1_0fb1ca4724[0].apic[62].mtaumul_SKv3_1 = 6\n",
      "cADpyr232_L5_TTPC1_0fb1ca4724[0].apic[112].mtaumul_SKv3_1 = 6\n",
      "cADpyr232_L5_TTPC1_0fb1ca4724[0].apic[105].mtaumul_SKv3_1 = 6\n",
      "cADpyr232_L5_TTPC1_0fb1ca4724[0].apic[103].mtaumul_SKv3_1 = 6\n",
      "cADpyr232_L5_TTPC1_0fb1ca4724[0].apic[100].mtaumul_SKv3_1 = 6\n",
      "cADpyr232_L5_TTPC1_0fb1ca4724[0].apic[77].mtaumul_SKv3_1 = 6\n",
      "cADpyr232_L5_TTPC1_0fb1ca4724[0].apic[70].mtaumul_SKv3_1 = 6\n",
      "cADpyr232_L5_TTPC1_0fb1ca4724[0].apic[107].mtaumul_SKv3_1 = 6\n",
      "cADpyr232_L5_TTPC1_0fb1ca4724[0].apic[106].mtaumul_SKv3_1 = 6\n",
      "cADpyr232_L5_TTPC1_0fb1ca4724[0].apic[102].mtaumul_SKv3_1 = 6\n",
      "cADpyr232_L5_TTPC1_0fb1ca4724[0].apic[101].mtaumul_SKv3_1 = 6\n",
      "cADpyr232_L5_TTPC1_0fb1ca4724[0].apic[83].mtaumul_SKv3_1 = 6\n",
      "cADpyr232_L5_TTPC1_0fb1ca4724[0].apic[78].mtaumul_SKv3_1 = 6\n",
      "cADpyr232_L5_TTPC1_0fb1ca4724[0].apic[76].mtaumul_SKv3_1 = 6\n",
      "cADpyr232_L5_TTPC1_0fb1ca4724[0].apic[71].mtaumul_SKv3_1 = 6\n",
      "cADpyr232_L5_TTPC1_0fb1ca4724[0].apic[111].mtaumul_SKv3_1 = 6\n",
      "cADpyr232_L5_TTPC1_0fb1ca4724[0].apic[108].mtaumul_SKv3_1 = 6\n",
      "cADpyr232_L5_TTPC1_0fb1ca4724[0].apic[95].mtaumul_SKv3_1 = 6\n",
      "cADpyr232_L5_TTPC1_0fb1ca4724[0].apic[84].mtaumul_SKv3_1 = 6\n",
      "cADpyr232_L5_TTPC1_0fb1ca4724[0].apic[80].mtaumul_SKv3_1 = 6\n",
      "cADpyr232_L5_TTPC1_0fb1ca4724[0].apic[79].mtaumul_SKv3_1 = 6\n",
      "cADpyr232_L5_TTPC1_0fb1ca4724[0].apic[75].mtaumul_SKv3_1 = 6\n",
      "cADpyr232_L5_TTPC1_0fb1ca4724[0].apic[72].mtaumul_SKv3_1 = 6\n",
      "cADpyr232_L5_TTPC1_0fb1ca4724[0].apic[110].mtaumul_SKv3_1 = 6\n",
      "cADpyr232_L5_TTPC1_0fb1ca4724[0].apic[109].mtaumul_SKv3_1 = 6\n",
      "cADpyr232_L5_TTPC1_0fb1ca4724[0].apic[97].mtaumul_SKv3_1 = 6\n",
      "cADpyr232_L5_TTPC1_0fb1ca4724[0].apic[96].mtaumul_SKv3_1 = 6\n",
      "cADpyr232_L5_TTPC1_0fb1ca4724[0].apic[92].mtaumul_SKv3_1 = 6\n",
      "cADpyr232_L5_TTPC1_0fb1ca4724[0].apic[85].mtaumul_SKv3_1 = 6\n",
      "cADpyr232_L5_TTPC1_0fb1ca4724[0].apic[82].mtaumul_SKv3_1 = 6\n",
      "cADpyr232_L5_TTPC1_0fb1ca4724[0].apic[81].mtaumul_SKv3_1 = 6\n",
      "cADpyr232_L5_TTPC1_0fb1ca4724[0].apic[74].mtaumul_SKv3_1 = 6\n",
      "cADpyr232_L5_TTPC1_0fb1ca4724[0].apic[73].mtaumul_SKv3_1 = 6\n",
      "cADpyr232_L5_TTPC1_0fb1ca4724[0].apic[94].mtaumul_SKv3_1 = 6\n",
      "cADpyr232_L5_TTPC1_0fb1ca4724[0].apic[93].mtaumul_SKv3_1 = 6\n",
      "cADpyr232_L5_TTPC1_0fb1ca4724[0].apic[87].mtaumul_SKv3_1 = 6\n",
      "cADpyr232_L5_TTPC1_0fb1ca4724[0].apic[86].mtaumul_SKv3_1 = 6\n",
      "cADpyr232_L5_TTPC1_0fb1ca4724[0].apic[91].mtaumul_SKv3_1 = 6\n",
      "cADpyr232_L5_TTPC1_0fb1ca4724[0].apic[88].mtaumul_SKv3_1 = 6\n",
      "cADpyr232_L5_TTPC1_0fb1ca4724[0].apic[90].mtaumul_SKv3_1 = 6\n",
      "cADpyr232_L5_TTPC1_0fb1ca4724[0].apic[89].mtaumul_SKv3_1 = 6\n",
      "ran working\n",
      "using wt_file na12_R850P_old\n",
      "updating ['na12'] with {'a1_0': 189.13763835395747, 'a1_1': 0.26695638768491636, 'b1_0': 0.04629223536503413, 'b1_1': 0.020637534940436623, 'a2_0': 46.11870444569494, 'a2_1': 0.08573647456507079, 'b2_0': 87.02282117999465, 'b2_1': 0.07365190244917075, 'a3_0': 352.1729222094556, 'a3_1': 0.09382063997372082, 'b3_0': 2523.267023787405, 'b3_1': 0.009671559340721473, 'bh_0': 3.681980631249484, 'bh_1': 4.033080128386181, 'bh_2': 0.113562030020341, 'ah_0': 3.4584460158800194, 'ah_1': 2548.2483944802625, 'ah_2': 0.00918133192486031, 'vShift': -9.99834316281422, 'vShift_inact': 10.340312802587945, 'maxrate': 251.8641183991076}\n",
      "using mut_file na12_R850P_old\n",
      "updating ['na12mut'] with {'a1_0': 189.13763835395747, 'a1_1': 0.26695638768491636, 'b1_0': 0.04629223536503413, 'b1_1': 0.020637534940436623, 'a2_0': 46.11870444569494, 'a2_1': 0.08573647456507079, 'b2_0': 87.02282117999465, 'b2_1': 0.07365190244917075, 'a3_0': 352.1729222094556, 'a3_1': 0.09382063997372082, 'b3_0': 2523.267023787405, 'b3_1': 0.009671559340721473, 'bh_0': 3.681980631249484, 'bh_1': 4.033080128386181, 'bh_2': 0.113562030020341, 'ah_0': 3.4584460158800194, 'ah_1': 2548.2483944802625, 'ah_2': 0.00918133192486031, 'vShift': -9.99834316281422, 'vShift_inact': 10.340312802587945, 'maxrate': 251.8641183991076}\n",
      "using wt16_file na12_R850P_old\n",
      "updating ['na16'] with {'a1_0': 189.13763835395747, 'a1_1': 0.26695638768491636, 'b1_0': 0.04629223536503413, 'b1_1': 0.020637534940436623, 'a2_0': 46.11870444569494, 'a2_1': 0.08573647456507079, 'b2_0': 87.02282117999465, 'b2_1': 0.07365190244917075, 'a3_0': 352.1729222094556, 'a3_1': 0.09382063997372082, 'b3_0': 2523.267023787405, 'b3_1': 0.009671559340721473, 'bh_0': 3.681980631249484, 'bh_1': 4.033080128386181, 'bh_2': 0.113562030020341, 'ah_0': 3.4584460158800194, 'ah_1': 2548.2483944802625, 'ah_2': 0.00918133192486031, 'vShift': -9.99834316281422, 'vShift_inact': 10.340312802587945, 'maxrate': 251.8641183991076}\n",
      "using mut16_file na12_R850P_old\n",
      "updating ['na16mut'] with {'a1_0': 189.13763835395747, 'a1_1': 0.26695638768491636, 'b1_0': 0.04629223536503413, 'b1_1': 0.020637534940436623, 'a2_0': 46.11870444569494, 'a2_1': 0.08573647456507079, 'b2_0': 87.02282117999465, 'b2_1': 0.07365190244917075, 'a3_0': 352.1729222094556, 'a3_1': 0.09382063997372082, 'b3_0': 2523.267023787405, 'b3_1': 0.009671559340721473, 'bh_0': 3.681980631249484, 'bh_1': 4.033080128386181, 'bh_2': 0.113562030020341, 'ah_0': 3.4584460158800194, 'ah_1': 2548.2483944802625, 'ah_2': 0.00918133192486031, 'vShift': -9.99834316281422, 'vShift_inact': 10.340312802587945, 'maxrate': 251.8641183991076}\n"
     ]
    },
    {
     "data": {
      "image/png": "[encoded data removed]",
      "text/plain": [
       "<Figure size 540x252 with 1 Axes>"
      ]
     },
     "metadata": {
      "needs_background": "light"
     },
     "output_type": "display_data"
    }
   ],
   "source": [
    "sim =  Dev.Developing_12HMM(mut_name = mut_name, na12name = na12name ,na16name = na16name , mut16_name = mut16_name)\n",
    "I,t= sim.plot_axonal_ks()\n",
    "Na = I['Na'] \n",
    "K = I['K'] \n",
    "K31 = I['K31'] \n",
    "KT= I['KT'] \n",
    "KCa= I['KCa'] \n",
    "KP= I['KP'] \n",
    "\n",
    "plt.rcParams[\"figure.figsize\"] = [7.50, 3.50]\n",
    "plt.rcParams[\"figure.autolayout\"] = True\n",
    "plt.plot(t,I['Na'],label = 'Na',color = 'red')\n",
    "plt.plot(t,I['K'],label = 'K',color = 'black')\n",
    "plt.plot(t,I['K31'],label = 'K31',color = 'green')\n",
    "plt.plot(t,I['KP'],label = 'KP',color = 'orange')\n",
    "plt.plot(t,I['KT'],label = 'KT',color = 'yellow')\n",
    "plt.plot(t,I['KCa'],label = 'KCa',color = 'grey')\n",
    "plt.legend()\n",
    "plt.savefig('ions_hom.pdf')"
   ]
  },
  {
   "cell_type": "markdown",
   "id": "54503514",
   "metadata": {},
   "source": [
    "# Het"
   ]
  },
  {
   "cell_type": "code",
   "execution_count": null,
   "id": "6e8017db",
   "metadata": {
    "scrolled": true
   },
   "outputs": [],
   "source": [
    "import Developing_12HMM as Dev\n",
    "import matplotlib.pyplot as plt\n",
    "import numpy as np\n",
    "import NrnHelper as NH\n",
    "import Na12ModelGY as Mature\n",
    "mut_name = 'na12_R850P_old'\n",
    "na12name = 'na12_orig1'\n",
    "na16name = 'na12_orig1'\n",
    "mut16_name = 'na12_R850P_old'\n",
    "\"\"\"\n",
    "for i in np.arange(0.1,5,1):\n",
    "    for j in np.arange(0.1,5,1):\n",
    "        KT=i\n",
    "        KP=j\n",
    "        sim = Dev.Developing_12HMM(mut_name = mut_name, na12name = na12name ,na16name = na16name , mut16_name = mut16_name,KT=KT, KP=KP)\n",
    "        sim.plot_fi_curve(0,2,8,fn = f'Het_KT:{KT}_KP:{KP}')\n",
    "\n",
    "sim = Dev.Developing_12HMM(mut_name = mut_name, na12name = na12name ,na16name = na16name , mut16_name = mut16_name)\n",
    "sim.plot_fi_curve(0,5,10,fn = f'newUDB')\n",
    "\"\"\"\n",
    "#[0, 5, 16, 28, 35, 40, 45, 48, 52, 56]\n",
    "#sim = Mature.Na12ModelGY(na12name = 'na12_orig1',mut_name= 'na12_R850P_6July_1')\n",
    "#sim.plot_fi_curve(0,5,10,fn = f'Mature UDB Het')\n",
    "#sim.plot_stim(stim_amp = 2,dt = 0.05)"
   ]
  },
  {
   "cell_type": "code",
   "execution_count": null,
   "id": "0e990e01",
   "metadata": {},
   "outputs": [],
   "source": []
  },
  {
   "cell_type": "markdown",
   "id": "3ec78c21",
   "metadata": {},
   "source": [
    "# Hom"
   ]
  },
  {
   "cell_type": "code",
   "execution_count": 1,
   "id": "a630dacd",
   "metadata": {
    "scrolled": true
   },
   "outputs": [
    {
     "name": "stderr",
     "output_type": "stream",
     "text": [
      "Warning: no DISPLAY environment variable.\n",
      "--No graphics will be displayed.\n"
     ]
    },
    {
     "data": {
      "text/plain": [
       "\"\\nfor i in np.arange(0.1,5,1):\\n    for j in np.arange(0.1,5,1):\\n        KT=i\\n        KP=j\\n        sim = Dev.Developing_12HMM(mut_name = mut_name, na12name = na12name ,na16name = na16name , mut16_name = mut16_name,KT=KT, KP=KP)\\n        p = sim.plot_fi_curve(0,2,8,fn = f'Hom_KT:{KT}_KP:{KP}')\\n        peaks.append(p)\\n\\n\\nsim = Mature.Na12ModelGY(na12name ='na12_R850P_6July_1',mut_name= 'na12_R850P_6July_1')\\nsim.plot_fi_curve(0,5,10,fn = f'Mature UDB Hom')\\n        \\n\""
      ]
     },
     "execution_count": 1,
     "metadata": {},
     "output_type": "execute_result"
    }
   ],
   "source": [
    "import Developing_12HMM as Dev\n",
    "import matplotlib.pyplot as plt\n",
    "import numpy as np\n",
    "import NrnHelper as NH\n",
    "import Na12ModelGY as Mature\n",
    "mut_name = 'na12_R850P_old'\n",
    "na12name = 'na12_R850P_old'\n",
    "na16name = 'na12_R850P_old'\n",
    "mut16_name = 'na12_R850P_old'\n",
    "peaks=[]\n",
    "\"\"\"\n",
    "for i in np.arange(0.1,5,1):\n",
    "    for j in np.arange(0.1,5,1):\n",
    "        KT=i\n",
    "        KP=j\n",
    "        sim = Dev.Developing_12HMM(mut_name = mut_name, na12name = na12name ,na16name = na16name , mut16_name = mut16_name,KT=KT, KP=KP)\n",
    "        p = sim.plot_fi_curve(0,2,8,fn = f'Hom_KT:{KT}_KP:{KP}')\n",
    "        peaks.append(p)\n",
    "\n",
    "\n",
    "sim = Mature.Na12ModelGY(na12name ='na12_R850P_6July_1',mut_name= 'na12_R850P_6July_1')\n",
    "sim.plot_fi_curve(0,5,10,fn = f'Mature UDB Hom')\n",
    "        \n",
    "\"\"\"\n"
   ]
  },
  {
   "cell_type": "code",
   "execution_count": null,
   "id": "92f9dc3e",
   "metadata": {},
   "outputs": [],
   "source": [
    "het = [0, 5, 16, 28, 35, 40, 45, 48, 52, 56]\n",
    "hom =[0, 5, 16, 28, 36, 41, 46, 50, 54, 58]\n",
    "WT = [0, 5, 16, 27, 34, 40, 44, 47, 51, 54]\n",
    "X = []\n",
    "for i in range (1,11):\n",
    "    X.append((i-1)*5/9)\n",
    "print(X)\n",
    "plt.rcParams[\"figure.figsize\"] = [7.50, 3.50]\n",
    "plt.rcParams[\"figure.autolayout\"] = True\n",
    "plt.plot(X, het, label='Het')\n",
    "plt.plot(X, hom, label='Hom')\n",
    "plt.plot(X, WT, label = 'WT')\n",
    "plt.ylabel('nAPs for 500ms epoch')\n",
    "plt.xlabel('Stim [nA]')\n",
    "plt.legend()\n",
    "plt.savefig('Old_R850P_mature.pdf')"
   ]
  },
  {
   "cell_type": "code",
   "execution_count": null,
   "id": "b96ca8eb",
   "metadata": {},
   "outputs": [],
   "source": [
    "sim = Dev.Developing_12HMM(mut_name = mut_name, na12name = na12name ,na16name = na16name , mut16_name = mut16_name, KT=1, KP=1)\n",
    "sim.plot_fi_curve(0,2,8,fn = f'Hom_KT:1_KP:1')"
   ]
  },
  {
   "cell_type": "code",
   "execution_count": null,
   "id": "050196b7",
   "metadata": {},
   "outputs": [],
   "source": [
    "sim = Dev.Developing_12HMM(mut_name = mut_name, na12name = na12name ,na16name = na16name , mut16_name = mut16_name,KT=0.1, KP=0.1)\n",
    "sim.plot_fi_curve(0,5,31,fn = f'Hom_KT:0.1_KP:0.1')"
   ]
  },
  {
   "cell_type": "markdown",
   "id": "247b396c",
   "metadata": {},
   "source": [
    "# Na effect\n"
   ]
  },
  {
   "cell_type": "code",
   "execution_count": null,
   "id": "cb5aa005",
   "metadata": {},
   "outputs": [],
   "source": [
    "import Developing_12HMM as Dev\n",
    "import matplotlib.pyplot as plt\n",
    "import numpy as np\n",
    "import NrnHelper as NH\n"
   ]
  },
  {
   "cell_type": "markdown",
   "id": "2c63acd4",
   "metadata": {},
   "source": [
    "WT"
   ]
  },
  {
   "cell_type": "code",
   "execution_count": null,
   "id": "f699b802",
   "metadata": {},
   "outputs": [],
   "source": [
    "mut_name = 'na12_orig1'\n",
    "na12name = 'na12_orig1'\n",
    "na16name = 'na12_orig1'\n",
    "mut16_name = 'na12_orig1'\n",
    "\n",
    "peaks_Na=[]\n",
    "for i in np.arange(2,4,0.5):\n",
    "    Na16=i\n",
    "    Na12=i\n",
    "    sim = Dev.Developing_12HMM(mut_name = mut_name, na12name = na12name ,na16name = na16name , mut16_name = mut16_name, soma_na16=i, soma_na12=j ,KT=3, KP=1)\n",
    "    p = sim.plot_fi_curve(0,2,8,fn = f'WT_Na16:{Na16}_Na12:{Na12}')\n",
    "    peaks_Na.append(p)\n",
    "        \n",
    "print(peaks_Na)\n",
    "\"\"\"\n",
    "np.arange(1,2,0.1)\n",
    "[[0, 0, 0, 0, 0, 0, 1, 1], [0, 0, 0, 0, 0, 0, 1, 1], [0, 0, 0, 0, 0, 0, 1, 1], [0, 0, 0, 0, 0, 0, 1, 1], [0, 0, 0, 0, 0, 0, 1, 1], [0, 0, 0, 0, 0, 0, 1, 1], [0, 0, 0, 0, 0, 0, 1, 1], [0, 0, 0, 0, 0, 0, 1, 1], [0, 0, 0, 0, 0, 0, 1, 1], [0, 0, 0, 0, 0, 0, 1, 1]]\n",
    "\"\"\"       "
   ]
  },
  {
   "cell_type": "markdown",
   "id": "e7835140",
   "metadata": {},
   "source": [
    "Het"
   ]
  },
  {
   "cell_type": "code",
   "execution_count": null,
   "id": "fdf45cea",
   "metadata": {},
   "outputs": [],
   "source": [
    "\n",
    "mut_name = 'na12_R850P_old'\n",
    "na12name = 'na12_orig1'\n",
    "na16name = 'na12_orig1'\n",
    "mut16_name = 'na12_R850P_old'\n",
    "\n",
    "for i in np.arange(0.1,1,0.1):\n",
    "    for j in np.arange(0.1,1,0.1):\n",
    "        Na16=i\n",
    "        Na12=j\n",
    "        sim = Dev.Developing_12HMM(mut_name = mut_name, na12name = na12name ,na16name = na16name , mut16_name = mut16_name,soma_na16=i, soma_na12= j,KT=3, KP=1)\n",
    "        sim.plot_fi_curve(0,2,8,fn = f'Het_Na16:{Na16}_Na12:{Na12}')"
   ]
  },
  {
   "cell_type": "markdown",
   "id": "2679d1ae",
   "metadata": {},
   "source": [
    "Hom"
   ]
  },
  {
   "cell_type": "code",
   "execution_count": null,
   "id": "cb63bd02",
   "metadata": {},
   "outputs": [],
   "source": [
    "mut_name = 'na12_R850P_old'\n",
    "na12name = 'na12_R850P_old'\n",
    "na16name = 'na12_R850P_old'\n",
    "mut16_name = 'na12_R850P_old'\n",
    "\n",
    "for i in np.arange(0.1,1,0.1):\n",
    "    for j in np.arange(0.1,1,0.1):\n",
    "        Na16=i\n",
    "        Na12=j\n",
    "        sim = Dev.Developing_12HMM(mut_name = mut_name, na12name = na12name ,na16name = na16name , mut16_name = mut16_name,soma_na16=i, soma_na12= j,KT=3, KP=1)\n",
    "        sim.plot_fi_curve(0,2,8,fn = f'Hom_Na16:{Na16}_Na12:{Na12}')"
   ]
  }
 ],
 "metadata": {
  "kernelspec": {
   "display_name": "Python 3 (ipykernel)",
   "language": "python",
   "name": "python3"
  },
  "language_info": {
   "codemirror_mode": {
    "name": "ipython",
    "version": 3
   },
   "file_extension": ".py",
   "mimetype": "text/x-python",
   "name": "python",
   "nbconvert_exporter": "python",
   "pygments_lexer": "ipython3",
   "version": "3.8.10"
  },
  "vscode": {
   "interpreter": {
    "hash": "916dbcbb3f70747c44a77c7bcd40155683ae19c65e1c03b4aa3499c5328201f1"
   }
  }
 },
 "nbformat": 4,
 "nbformat_minor": 5
}

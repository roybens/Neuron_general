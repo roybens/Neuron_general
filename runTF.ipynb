{
 "cells": [
  {
   "cell_type": "code",
   "execution_count": null,
   "metadata": {},
   "outputs": [],
   "source": [
    "import Na12Model_TF as tf\n",
    "import matplotlib.pyplot as plt\n",
    "import numpy as np\n",
    "import NrnHelper as NH\n",
    "from neuron import h\n",
    "\n",
    "\n",
    "fig, ficurveax = plt.subplots(1, 1)\n",
    "print('first')\n",
    "sim = tf.Na12Model_TF()\n",
    "print('second')\n",
    "\n",
    "sim.plot_stim(axs = axs_volts,dt=0.1,stim_amp = 0.5,rec_extra = True,)\n",
    "print('done')\n",
    "#sim.plot_stim()"
   ]
  },
  {
   "cell_type": "code",
   "execution_count": null,
   "metadata": {},
   "outputs": [],
   "source": []
  }
 ],
 "metadata": {
  "kernelspec": {
   "display_name": "Python 3 (ipykernel)",
   "language": "python",
   "name": "python3"
  },
  "language_info": {
   "codemirror_mode": {
    "name": "ipython",
    "version": 3
   },
   "file_extension": ".py",
   "mimetype": "text/x-python",
   "name": "python",
   "nbconvert_exporter": "python",
   "pygments_lexer": "ipython3",
   "version": "3.8.10"
  }
 },
 "nbformat": 4,
 "nbformat_minor": 2
}

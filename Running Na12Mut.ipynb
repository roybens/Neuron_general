{
 "cells": [
  {
   "cell_type": "code",
   "execution_count": null,
   "id": "3ce3694a",
   "metadata": {},
   "outputs": [
    {
     "name": "stdout",
     "output_type": "stream",
     "text": [
      "running model at /global/u2/r/roybens/Neuron_general/Neuron_Model_HMM run dir is /global/u2/r/roybens/Neuron_general\n",
      "\t1 \n",
      "\t1 \n",
      "Setting temperature to 34.000000 C\n",
      "Setting simulation time step to 0.100000 ms\n",
      "\t1 \n",
      "\t1 \n",
      "\t1 \n",
      "\t1 \n",
      "\t1 \n",
      "\t1 \n",
      "\t1 \n",
      "\t1 \n",
      "\t1 \n",
      "\t1 \n",
      "ran working\n",
      "\t1 \n",
      "\t1 \n",
      "\t1 \n",
      "**********************\n",
      "cADpyr232_L5_TTPC1_0fb1ca4724[0].soma[0]\n",
      "1 \n",
      "1 \n",
      "1 \n",
      "\t1 \n",
      "ran working\n",
      "ran working\n",
      "\t1 \n",
      "\t1 \n",
      "ran working\n",
      "using wt_file na12WT2\n",
      "updating ['na12'] with {'a1_0': 113.16306114608662, 'a1_1': 0.6185148775333466, 'b1_0': 1.5369319662106224, 'b1_1': 0.03760940479226199, 'a2_0': 8077.199476870318, 'a2_1': 0.057953576720718186, 'b2_0': 440.8026571721324, 'b2_1': 2.43467970870598, 'a3_0': 235.89292484428378, 'a3_1': 0.03923429602318399, 'b3_0': 2756.5914687217423, 'b3_1': 0.0898146943993069, 'bh_0': 0.081788685383821, 'bh_1': 5.696284715226186, 'bh_2': 0.15400472492551215, 'ah_0': 0.9143043422330024, 'ah_1': 66682.01097053559, 'ah_2': 0.0001358939910684274, 'vShift': -22.249638959431074, 'vShift_inact': 11.631118647114471, 'maxrate': 2052.6773331021423, 'ahfactor': 110.22089404186298, 'bhfactor': 24.830864890050044}\n",
      "using mut_file A880S\n",
      "updating ['na12mut'] with {'a1_0': 176.80510296082238, 'a1_1': 0.1678233202758045, 'b1_0': 1.769266939650823, 'b1_1': 0.03626637628510002, 'a2_0': 9223.739610602614, 'a2_1': 0.15984310386164732, 'b2_0': 355.7575224846136, 'b2_1': 2.4478337272598516, 'a3_0': 235.89292484428378, 'a3_1': 0.03923429602318399, 'b3_0': 2755.923141469547, 'b3_1': 0.0898146943993069, 'bh_0': 0.18326063900012257, 'bh_1': 5.696284715226186, 'bh_2': 0.16147973494423767, 'ah_0': 0.9143043422330024, 'ah_1': 66682.01097053559, 'ah_2': 0.00012148248206337513, 'vShift': -18.778366015582648, 'vShift_inact': 11.527414601896023, 'maxrate': 1779.61256976144, 'ahfactor': 110.22089404186298, 'bhfactor': 19.885193129508597}\n",
      "ran working\n",
      "updating ['na12mut'] with {'a1_0': 113.16306114608662, 'a1_1': 0.6185148775333466, 'b1_0': 1.5369319662106224, 'b1_1': 0.03760940479226199, 'a2_0': 8077.199476870318, 'a2_1': 0.057953576720718186, 'b2_0': 440.8026571721324, 'b2_1': 2.43467970870598, 'a3_0': 235.89292484428378, 'a3_1': 0.03923429602318399, 'b3_0': 2756.5914687217423, 'b3_1': 0.0898146943993069, 'bh_0': 0.081788685383821, 'bh_1': 5.696284715226186, 'bh_2': 0.15400472492551215, 'ah_0': 0.9143043422330024, 'ah_1': 66682.01097053559, 'ah_2': 0.0001358939910684274, 'vShift': -22.249638959431074, 'vShift_inact': 11.631118647114471, 'maxrate': 2052.6773331021423, 'ahfactor': 110.22089404186298, 'bhfactor': 24.830864890050044}\n"
     ]
    }
   ],
   "source": [
    "from NaMut import *\n",
    "import matplotlib.pyplot as plt\n",
    "import numpy as np\n",
    "import NrnHelper as NH\n",
    "from neuron import h\n",
    "#sim.make_hmm_wt()\n",
    "#fig, ficurveax = plt.subplots(1, 1)"
   ]
  },
  {
   "cell_type": "code",
   "execution_count": null,
   "id": "b6e8857f",
   "metadata": {},
   "outputs": [],
   "source": [
    "\n",
    "sim = NaMut('A880S')\n",
    "sim.plot_volts_dvdt()"
   ]
  },
  {
   "cell_type": "code",
   "execution_count": null,
   "id": "fe6e4782",
   "metadata": {},
   "outputs": [],
   "source": [
    "#sim = NaMut(mut_name = 'A427D')\n",
    "sim = NaMut()\n",
    "sim.make_het()\n",
    "sim.plot_stim(stim_amp = 0.7)\n",
    "#h.ais_KCa *=1\n",
    "#h.ais_ca *=10\n",
    "h.working()\n",
    "#sim.plot_currents(dt=0.1,stim_amp = 0.7)"
   ]
  },
  {
   "cell_type": "code",
   "execution_count": null,
   "id": "9e612707",
   "metadata": {},
   "outputs": [],
   "source": []
  },
  {
   "cell_type": "code",
   "execution_count": null,
   "id": "363e65d6",
   "metadata": {},
   "outputs": [],
   "source": [
    "sim.plot_stim(stim_amp = 0.7)"
   ]
  },
  {
   "cell_type": "code",
   "execution_count": null,
   "id": "829bece3",
   "metadata": {},
   "outputs": [],
   "source": [
    "fis = sim.plot_wt_mut_fi()"
   ]
  },
  {
   "cell_type": "code",
   "execution_count": null,
   "id": "4b576aa2",
   "metadata": {},
   "outputs": [],
   "source": [
    "NH.plot_FIs(fis)"
   ]
  },
  {
   "cell_type": "code",
   "execution_count": null,
   "id": "49998608",
   "metadata": {},
   "outputs": [],
   "source": [
    "sim = NaMut(mut_name = 'R853Q')\n",
    "sim.plot_stim()"
   ]
  },
  {
   "cell_type": "code",
   "execution_count": null,
   "id": "51d1113f",
   "metadata": {},
   "outputs": [],
   "source": [
    "fis = sim.plot_wt_mut_fi()"
   ]
  },
  {
   "cell_type": "code",
   "execution_count": null,
   "id": "f6f82cf6",
   "metadata": {},
   "outputs": [],
   "source": [
    "NH.plot_FIs(fis)"
   ]
  },
  {
   "cell_type": "code",
   "execution_count": null,
   "id": "69c9779e",
   "metadata": {},
   "outputs": [],
   "source": [
    "sim = NaMut(mut_name = 'E430A')\n",
    "sim.plot_stim()"
   ]
  },
  {
   "cell_type": "code",
   "execution_count": null,
   "id": "df87bf07",
   "metadata": {},
   "outputs": [],
   "source": [
    "fis = sim.plot_wt_mut_fi()"
   ]
  },
  {
   "cell_type": "code",
   "execution_count": null,
   "id": "e5fafad2",
   "metadata": {},
   "outputs": [],
   "source": [
    "NH.plot_FIs(fis)"
   ]
  }
 ],
 "metadata": {
  "kernelspec": {
   "display_name": "Python 3 (ipykernel)",
   "language": "python",
   "name": "python3"
  },
  "language_info": {
   "codemirror_mode": {
    "name": "ipython",
    "version": 3
   },
   "file_extension": ".py",
   "mimetype": "text/x-python",
   "name": "python",
   "nbconvert_exporter": "python",
   "pygments_lexer": "ipython3",
   "version": "3.8.10"
  }
 },
 "nbformat": 4,
 "nbformat_minor": 5
}

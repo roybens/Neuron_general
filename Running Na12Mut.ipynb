{
 "cells": [
  {
   "cell_type": "code",
   "execution_count": 1,
   "id": "3ce3694a",
   "metadata": {},
   "outputs": [],
   "source": [
    "from NaMut import *\n",
    "import matplotlib.pyplot as plt\n",
    "import numpy as np\n",
    "import NrnHelper as NH\n",
    "#sim.make_hmm_wt()\n",
    "#fig, ficurveax = plt.subplots(1, 1)"
   ]
  },
  {
   "cell_type": "code",
   "execution_count": 2,
   "id": "f52f8d8c",
   "metadata": {},
   "outputs": [
    {
     "name": "stdout",
     "output_type": "stream",
     "text": [
      "running model at /global/u2/r/roybens/Neuron_general/Neuron_Model_HMM run dir is /global/u2/r/roybens/Neuron_general\n",
      "\t1 \n",
      "\t1 \n",
      "Setting temperature to 34.000000 C\n",
      "Setting simulation time step to 0.100000 ms\n",
      "\t1 \n",
      "\t1 \n",
      "\t1 \n",
      "\t1 \n",
      "\t1 \n",
      "\t1 \n",
      "\t1 \n",
      "\t1 \n",
      "\t1 \n",
      "\t1 \n",
      "ran working\n",
      "\t1 \n",
      "\t1 \n",
      "\t1 \n",
      "**********************\n",
      "cADpyr232_L5_TTPC1_0fb1ca4724[0].soma[0]\n",
      "1 \n",
      "1 \n",
      "1 \n",
      "\t1 \n",
      "ran working\n",
      "ran working\n",
      "\t1 \n",
      "\t1 \n",
      "ran working\n",
      "updating ['na12'] with {'a1_0': 902.8346275407298, 'a1_1': 0.02426677951196471, 'b1_0': 6.255603296784591, 'b1_1': 0.10007320457706317, 'a2_0': 10.939545408522726, 'a2_1': 0.09928533110652522, 'b2_0': 1.30869882224258, 'b2_1': 0.008781394307371645, 'a3_0': 296.0705065994848, 'a3_1': 0.08933813493417142, 'b3_0': 62.62761565937788, 'b3_1': 0.042740914358030485, 'bh_0': 2.0430528391889338, 'bh_1': 13.043744707677375, 'bh_2': 0.10132907919008999, 'ah_0': 59.30847625024542, 'ah_1': 46617.58445336701, 'ah_2': 0.0405856628709497, 'vShift': -9.23828878373234, 'vShift_inact': -23.33724488724865, 'maxrate': 66371.87574816398, 'ahfactor': 19.739634361712508, 'bhfactor': 0.9068703292111128}\n",
      "updating ['na12mut'] with {'a1_0': 798.5454856583135, 'a1_1': 2.962518762214607, 'b1_0': 2.063557282288102, 'b1_1': 0.24261926653921487, 'a2_0': 200.03338123828146, 'a2_1': 0.992916270897196, 'b2_0': 2.209550266429935, 'b2_1': 6.7518724588801105, 'a3_0': 8.587152793084453, 'a3_1': 0.07119541946856549, 'b3_0': 32.93276200755697, 'b3_1': 0.025426178552772502, 'bh_0': 1.0465802712095185, 'bh_1': 7.287153755334088, 'bh_2': 0.2019035291515919, 'ah_0': 375.65340881075565, 'ah_1': 21434.429795506196, 'ah_2': 0.09033490591119632, 'vShift': -34.99558084145239, 'vShift_inact': -32.07649338620764, 'maxrate': 25724.76558881386, 'ahfactor': 192.34692398127584, 'bhfactor': 1.4925822251173624}\n"
     ]
    }
   ],
   "source": [
    "sim = NaMut('A427D')"
   ]
  },
  {
   "cell_type": "code",
   "execution_count": 3,
   "id": "fe6e4782",
   "metadata": {},
   "outputs": [
    {
     "name": "stdout",
     "output_type": "stream",
     "text": [
      "ran working\n",
      "updating ['na12'] with {'a1_0': 902.8346275407298, 'a1_1': 0.02426677951196471, 'b1_0': 6.255603296784591, 'b1_1': 0.10007320457706317, 'a2_0': 10.939545408522726, 'a2_1': 0.09928533110652522, 'b2_0': 1.30869882224258, 'b2_1': 0.008781394307371645, 'a3_0': 296.0705065994848, 'a3_1': 0.08933813493417142, 'b3_0': 62.62761565937788, 'b3_1': 0.042740914358030485, 'bh_0': 2.0430528391889338, 'bh_1': 13.043744707677375, 'bh_2': 0.10132907919008999, 'ah_0': 59.30847625024542, 'ah_1': 46617.58445336701, 'ah_2': 0.0405856628709497, 'vShift': -9.23828878373234, 'vShift_inact': -23.33724488724865, 'maxrate': 66371.87574816398, 'ahfactor': 19.739634361712508, 'bhfactor': 0.9068703292111128}\n",
      "updating ['na12mut'] with {'a1_0': 902.8346275407298, 'a1_1': 0.02426677951196471, 'b1_0': 6.255603296784591, 'b1_1': 0.10007320457706317, 'a2_0': 10.939545408522726, 'a2_1': 0.09928533110652522, 'b2_0': 1.30869882224258, 'b2_1': 0.008781394307371645, 'a3_0': 296.0705065994848, 'a3_1': 0.08933813493417142, 'b3_0': 62.62761565937788, 'b3_1': 0.042740914358030485, 'bh_0': 2.0430528391889338, 'bh_1': 13.043744707677375, 'bh_2': 0.10132907919008999, 'ah_0': 59.30847625024542, 'ah_1': 46617.58445336701, 'ah_2': 0.0405856628709497, 'vShift': -9.23828878373234, 'vShift_inact': -23.33724488724865, 'maxrate': 66371.87574816398, 'ahfactor': 19.739634361712508, 'bhfactor': 0.9068703292111128}\n"
     ]
    },
    {
     "name": "stderr",
     "output_type": "stream",
     "text": [
      "findfont: Generic family 'sans-serif' not found because none of the following families were found: Helvetica\n",
      "findfont: Generic family 'sans-serif' not found because none of the following families were found: Helvetica\n",
      "findfont: Generic family 'sans-serif' not found because none of the following families were found: Helvetica\n",
      "findfont: Generic family 'sans-serif' not found because none of the following families were found: Helvetica\n",
      "findfont: Generic family 'sans-serif' not found because none of the following families were found: Helvetica\n",
      "findfont: Generic family 'sans-serif' not found because none of the following families were found: Helvetica\n",
      "findfont: Generic family 'sans-serif' not found because none of the following families were found: Helvetica\n",
      "findfont: Generic family 'sans-serif' not found because none of the following families were found: Helvetica\n",
      "findfont: Generic family 'sans-serif' not found because none of the following families were found: Helvetica\n",
      "findfont: Generic family 'sans-serif' not found because none of the following families were found: Helvetica\n",
      "findfont: Generic family 'sans-serif' not found because none of the following families were found: Helvetica\n",
      "findfont: Generic family 'sans-serif' not found because none of the following families were found: Helvetica\n",
      "findfont: Generic family 'sans-serif' not found because none of the following families were found: Helvetica\n",
      "findfont: Generic family 'sans-serif' not found because none of the following families were found: Helvetica\n",
      "findfont: Generic family 'sans-serif' not found because none of the following families were found: Helvetica\n",
      "findfont: Generic family 'sans-serif' not found because none of the following families were found: Helvetica\n",
      "findfont: Generic family 'sans-serif' not found because none of the following families were found: Helvetica\n",
      "findfont: Generic family 'sans-serif' not found because none of the following families were found: Helvetica\n",
      "findfont: Generic family 'sans-serif' not found because none of the following families were found: Helvetica\n",
      "findfont: Generic family 'sans-serif' not found because none of the following families were found: Helvetica\n",
      "findfont: Generic family 'sans-serif' not found because none of the following families were found: Helvetica\n",
      "findfont: Generic family 'sans-serif' not found because none of the following families were found: Helvetica\n",
      "findfont: Generic family 'sans-serif' not found because none of the following families were found: Helvetica\n",
      "findfont: Generic family 'sans-serif' not found because none of the following families were found: Helvetica\n",
      "findfont: Generic family 'sans-serif' not found because none of the following families were found: Helvetica\n",
      "findfont: Generic family 'sans-serif' not found because none of the following families were found: Helvetica\n",
      "findfont: Generic family 'sans-serif' not found because none of the following families were found: Helvetica\n",
      "findfont: Generic family 'sans-serif' not found because none of the following families were found: Helvetica\n",
      "findfont: Generic family 'sans-serif' not found because none of the following families were found: Helvetica\n",
      "findfont: Generic family 'sans-serif' not found because none of the following families were found: Helvetica\n",
      "findfont: Generic family 'sans-serif' not found because none of the following families were found: Helvetica\n",
      "findfont: Generic family 'sans-serif' not found because none of the following families were found: Helvetica\n",
      "findfont: Generic family 'sans-serif' not found because none of the following families were found: Helvetica\n",
      "findfont: Generic family 'sans-serif' not found because none of the following families were found: Helvetica\n",
      "findfont: Generic family 'sans-serif' not found because none of the following families were found: Helvetica\n",
      "findfont: Generic family 'sans-serif' not found because none of the following families were found: Helvetica\n",
      "findfont: Generic family 'sans-serif' not found because none of the following families were found: Helvetica\n",
      "findfont: Generic family 'sans-serif' not found because none of the following families were found: Helvetica\n",
      "findfont: Generic family 'sans-serif' not found because none of the following families were found: Helvetica\n",
      "findfont: Generic family 'sans-serif' not found because none of the following families were found: Helvetica\n",
      "findfont: Generic family 'sans-serif' not found because none of the following families were found: Helvetica\n",
      "findfont: Generic family 'sans-serif' not found because none of the following families were found: Helvetica\n",
      "findfont: Generic family 'sans-serif' not found because none of the following families were found: Helvetica\n",
      "findfont: Generic family 'sans-serif' not found because none of the following families were found: Helvetica\n",
      "findfont: Generic family 'sans-serif' not found because none of the following families were found: Helvetica\n",
      "findfont: Generic family 'sans-serif' not found because none of the following families were found: Helvetica\n",
      "findfont: Generic family 'sans-serif' not found because none of the following families were found: Helvetica\n",
      "findfont: Generic family 'sans-serif' not found because none of the following families were found: Helvetica\n",
      "findfont: Generic family 'sans-serif' not found because none of the following families were found: Helvetica\n",
      "findfont: Generic family 'sans-serif' not found because none of the following families were found: Helvetica\n",
      "findfont: Generic family 'sans-serif' not found because none of the following families were found: Helvetica\n",
      "findfont: Generic family 'sans-serif' not found because none of the following families were found: Helvetica\n",
      "findfont: Generic family 'sans-serif' not found because none of the following families were found: Helvetica\n"
     ]
    },
    {
     "data": {
      "text/plain": [
       "<AxesSubplot: >"
      ]
     },
     "execution_count": 3,
     "metadata": {},
     "output_type": "execute_result"
    },
    {
     "name": "stderr",
     "output_type": "stream",
     "text": [
      "findfont: Generic family 'sans-serif' not found because none of the following families were found: Helvetica\n",
      "findfont: Generic family 'sans-serif' not found because none of the following families were found: Helvetica\n",
      "findfont: Generic family 'sans-serif' not found because none of the following families were found: Helvetica\n",
      "findfont: Generic family 'sans-serif' not found because none of the following families were found: Helvetica\n",
      "findfont: Generic family 'sans-serif' not found because none of the following families were found: Helvetica\n",
      "findfont: Generic family 'sans-serif' not found because none of the following families were found: Helvetica\n",
      "findfont: Generic family 'sans-serif' not found because none of the following families were found: Helvetica\n",
      "findfont: Generic family 'sans-serif' not found because none of the following families were found: Helvetica\n",
      "findfont: Generic family 'sans-serif' not found because none of the following families were found: Helvetica\n",
      "findfont: Generic family 'sans-serif' not found because none of the following families were found: Helvetica\n",
      "findfont: Generic family 'sans-serif' not found because none of the following families were found: Helvetica\n",
      "findfont: Generic family 'sans-serif' not found because none of the following families were found: Helvetica\n",
      "findfont: Generic family 'sans-serif' not found because none of the following families were found: Helvetica\n",
      "findfont: Generic family 'sans-serif' not found because none of the following families were found: Helvetica\n",
      "findfont: Generic family 'sans-serif' not found because none of the following families were found: Helvetica\n",
      "findfont: Generic family 'sans-serif' not found because none of the following families were found: Helvetica\n",
      "findfont: Generic family 'sans-serif' not found because none of the following families were found: Helvetica\n",
      "findfont: Generic family 'sans-serif' not found because none of the following families were found: Helvetica\n",
      "findfont: Generic family 'sans-serif' not found because none of the following families were found: Helvetica\n",
      "findfont: Generic family 'sans-serif' not found because none of the following families were found: Helvetica\n",
      "findfont: Generic family 'sans-serif' not found because none of the following families were found: Helvetica\n"
     ]
    },
    {
     "data": {
      "image/png": "[encoded data removed]",
      "text/plain": [
       "<Figure size 226.772x221.102 with 1 Axes>"
      ]
     },
     "metadata": {
      "needs_background": "light"
     },
     "output_type": "display_data"
    }
   ],
   "source": [
    "sim.make_wt()\n",
    "sim.plot_stim()"
   ]
  },
  {
   "cell_type": "code",
   "execution_count": null,
   "id": "829bece3",
   "metadata": {},
   "outputs": [],
   "source": [
    "fis = sim.plot_wt_mut_fi()"
   ]
  },
  {
   "cell_type": "code",
   "execution_count": null,
   "id": "4b576aa2",
   "metadata": {},
   "outputs": [],
   "source": [
    "NH.plot_FIs(fis)"
   ]
  }
 ],
 "metadata": {
  "kernelspec": {
   "display_name": "Python 3 (ipykernel)",
   "language": "python",
   "name": "python3"
  },
  "language_info": {
   "codemirror_mode": {
    "name": "ipython",
    "version": 3
   },
   "file_extension": ".py",
   "mimetype": "text/x-python",
   "name": "python",
   "nbconvert_exporter": "python",
   "pygments_lexer": "ipython3",
   "version": "3.8.10"
  }
 },
 "nbformat": 4,
 "nbformat_minor": 5
}

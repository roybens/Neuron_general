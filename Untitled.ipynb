{
 "cells": [
  {
   "cell_type": "code",
   "execution_count": null,
   "id": "6bf9193b",
   "metadata": {},
   "outputs": [],
   "source": [
    "import Na16HMM_Tau"
   ]
  },
  {
   "cell_type": "code",
   "execution_count": 1,
   "id": "165000d0",
   "metadata": {},
   "outputs": [
    {
     "name": "stderr",
     "output_type": "stream",
     "text": [
      "Warning: no DISPLAY environment variable.\n",
      "--No graphics will be displayed.\n"
     ]
    }
   ],
   "source": [
    "import NeuronModelClass"
   ]
  },
  {
   "cell_type": "code",
   "execution_count": null,
   "id": "6412ba4d",
   "metadata": {},
   "outputs": [],
   "source": [
    "sim_obj1 = NeuronModelClass.NeuronModel()"
   ]
  },
  {
   "cell_type": "code",
   "execution_count": null,
   "id": "f5e4689a",
   "metadata": {},
   "outputs": [],
   "source": [
    "sim_obj1.init_stim()\n"
   ]
  },
  {
   "cell_type": "code",
   "execution_count": null,
   "id": "0f17eab0",
   "metadata": {},
   "outputs": [],
   "source": [
    "V1, I1, t1, stim1 = sim_obj1.run_model()"
   ]
  },
  {
   "cell_type": "code",
   "execution_count": null,
   "id": "51e0cefd",
   "metadata": {},
   "outputs": [],
   "source": [
    "sim_obj2 = NeuronModelClass.NeuronModel()\n",
    "sim_obj2.init_stim()\n",
    "V2,I2,t2,stim2 = sim_obj2.run_sim_model()\n"
   ]
  },
  {
   "cell_type": "code",
   "execution_count": null,
   "id": "f3ad52d5",
   "metadata": {},
   "outputs": [],
   "source": [
    "import unittest"
   ]
  },
  {
   "cell_type": "code",
   "execution_count": null,
   "id": "02ad7b7b",
   "metadata": {},
   "outputs": [],
   "source": [
    "test_obj = unittest.TestCase()"
   ]
  },
  {
   "cell_type": "code",
   "execution_count": null,
   "id": "99fdbd19",
   "metadata": {},
   "outputs": [],
   "source": [
    "print(V1)"
   ]
  },
  {
   "cell_type": "code",
   "execution_count": null,
   "id": "945eb6c6",
   "metadata": {},
   "outputs": [],
   "source": [
    "print(V2)"
   ]
  },
  {
   "cell_type": "code",
   "execution_count": null,
   "id": "8f46f262",
   "metadata": {},
   "outputs": [],
   "source": [
    "import importlib\n",
    "importlib.reload(NeuronModelClass)"
   ]
  },
  {
   "cell_type": "code",
   "execution_count": 3,
   "id": "cc1e86f8",
   "metadata": {},
   "outputs": [
    {
     "name": "stdout",
     "output_type": "stream",
     "text": [
      "running model at /global/u1/m/mpatil1/Neuron_general/Neuron_Model_12HH16HMM run dir is /global/u1/m/mpatil1/Neuron_general\n",
      "ran working\n"
     ]
    }
   ],
   "source": [
    "sim_obj3 = NeuronModelClass.NeuronModel()\n",
    "sim_obj3.init_stim()\n",
    "V3,I3,t3,stim3 = sim_obj3.run_sim_model()"
   ]
  },
  {
   "cell_type": "code",
   "execution_count": null,
   "id": "6c11b1eb",
   "metadata": {},
   "outputs": [],
   "source": [
    "print(type(V3))"
   ]
  },
  {
   "cell_type": "code",
   "execution_count": null,
   "id": "b4a4ac5a",
   "metadata": {},
   "outputs": [],
   "source": [
    "test_obj.assertArrayEqual(V1,V3)"
   ]
  },
  {
   "cell_type": "code",
   "execution_count": null,
   "id": "baae0006",
   "metadata": {},
   "outputs": [],
   "source": [
    "import numpy as np\n",
    "np.allclose(I1['Na'],I3['ina'])"
   ]
  },
  {
   "cell_type": "code",
   "execution_count": null,
   "id": "5290adc2",
   "metadata": {},
   "outputs": [],
   "source": []
  },
  {
   "cell_type": "code",
   "execution_count": 4,
   "id": "e8b361ef",
   "metadata": {},
   "outputs": [],
   "source": [
    "from currentscape.currentscape import plot_currentscape"
   ]
  },
  {
   "cell_type": "code",
   "execution_count": 5,
   "id": "4ba640f9",
   "metadata": {},
   "outputs": [],
   "source": [
    "def plot_current_scape(self,stim_amp = 0.5,dt = 0.01):\n",
    "        print(\"Inside current scape\")\n",
    "        self.l5mdl.init_stim(amp=stim_amp,sweep_len = 200)\n",
    "        Vm, I, t, stim = self.l5mdl.run_model(dt=dt)\n",
    "        print(Vm)\n",
    "        print(I)\n",
    "        #current_names = ['Ca_HVA', 'SKv3_1', 'SK_E2', 'Ca_LVAst', 'Ih', 'na12', 'na12mut', 'na16', 'na16mut']\n",
    "        current_names = [\"K\",\"Na\",\"Ca\"]\n",
    "        config = {\n",
    "        \"output\": {\n",
    "            \"savefig\": True,\n",
    "            \"dir\": \".\",\n",
    "            \"fname\": \"quickstart_plot\",\n",
    "            \"extension\": \"png\",\n",
    "            \"dpi\": 300,\n",
    "            \"transparent\": False\n",
    "        },\n",
    "        \"current\": {\"names\": current_names},\n",
    "        \"voltage\": {\"ylim\": [-90, 50]},\n",
    "        \"legendtextsize\": 5,\n",
    "        \"adjust\": {\n",
    "            \"left\": 0.15,\n",
    "            \"right\": 0.8,\n",
    "            \"top\": 1.0,\n",
    "            \"bottom\": 0.0\n",
    "            }\n",
    "        }\n",
    "        fig = plot_currentscape(Vm, [I['K'], I['Na'], I['Ca']], config)\n",
    "        return fig"
   ]
  },
  {
   "cell_type": "code",
   "execution_count": 10,
   "id": "b1586577",
   "metadata": {},
   "outputs": [
    {
     "data": {
      "image/png": "[encoded data removed]",
      "text/plain": [
       "<Figure size 216x288 with 5 Axes>"
      ]
     },
     "execution_count": 10,
     "metadata": {},
     "output_type": "execute_result"
    }
   ],
   "source": [
    "sim_config = {\n",
    "                'section' : 'soma',\n",
    "                'segment' : 0.5,\n",
    "                'inward'  : ['ina','ica'],\n",
    "                'outward' : ['ik']\n",
    "            }\n",
    "\n",
    "current_names = sim_config['outward'] + sim_config['inward']\n",
    "sim_obj3.init_stim(amp=0.5,sweep_len = 200)\n",
    "Vm, I, t, stim = sim_obj3.run_sim_model(dt=0.01,sim_config=sim_config)\n",
    "plot_config = {\n",
    "        \"output\": {\n",
    "            \"savefig\": True,\n",
    "            \"dir\": \".\",\n",
    "            \"fname\": \"test_plot\",\n",
    "            \"extension\": \"png\",\n",
    "            \"dpi\": 300,\n",
    "            \"transparent\": False\n",
    "        },\n",
    "        \"current\": {\"names\": current_names},\n",
    "        \"voltage\": {\"ylim\": [-90, 50]},\n",
    "        \"legendtextsize\": 5,\n",
    "        \"adjust\": {\n",
    "            \"left\": 0.15,\n",
    "            \"right\": 0.8,\n",
    "            \"top\": 1.0,\n",
    "            \"bottom\": 0.0\n",
    "            }\n",
    "        }\n",
    "plot_currentscape(Vm, [I[x] for x in I.keys()], plot_config)"
   ]
  },
  {
   "cell_type": "code",
   "execution_count": null,
   "id": "8bb45865",
   "metadata": {},
   "outputs": [],
   "source": [
    "def test_current_scape():\n",
    "    print(\"inside currentscape\")\n",
    "    sim = Na1612Model(na16name = na16_name)\n",
    "    fig = sim.plot_current_scape()\n",
    "    file_path_to_save=f'./currentscape.pdf'\n",
    "    fig.savefig(file_path_to_save, format='pdf', dpi=my_dpi)\n",
    "\n",
    "    return"
   ]
  },
  {
   "cell_type": "code",
   "execution_count": null,
   "id": "a712d7a9",
   "metadata": {},
   "outputs": [],
   "source": []
  }
 ],
 "metadata": {
  "kernelspec": {
   "display_name": "Python 3 (ipykernel)",
   "language": "python",
   "name": "python3"
  },
  "language_info": {
   "codemirror_mode": {
    "name": "ipython",
    "version": 3
   },
   "file_extension": ".py",
   "mimetype": "text/x-python",
   "name": "python",
   "nbconvert_exporter": "python",
   "pygments_lexer": "ipython3",
   "version": "3.8.10"
  }
 },
 "nbformat": 4,
 "nbformat_minor": 5
}

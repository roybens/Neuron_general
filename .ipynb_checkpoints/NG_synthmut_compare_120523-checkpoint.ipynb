{
 "cells": [
  {
   "cell_type": "code",
   "execution_count": 2,
   "metadata": {
    "scrolled": false
   },
   "outputs": [
    {
     "ename": "IndentationError",
     "evalue": "unindent does not match any outer indentation level (<tokenize>, line 55)",
     "output_type": "error",
     "traceback": [
      "\u001b[0;36m  File \u001b[0;32m<tokenize>:55\u001b[0;36m\u001b[0m\n\u001b[0;31m    sim = tf.Na12Model_TF(na12name = 'na12_HMM_TF100923',mut_name = 'na12_HMM_TF100923',\u001b[0m\n\u001b[0m    ^\u001b[0m\n\u001b[0;31mIndentationError\u001b[0m\u001b[0;31m:\u001b[0m unindent does not match any outer indentation level\n"
     ]
    }
   ],
   "source": [
    "### Neuron General 12HMM Synthetic Mutants comparison\n",
    "from NeuronModelClass import NeuronModel\n",
    "from NrnHelper import *\n",
    "import NrnHelper as nh\n",
    "import matplotlib.pyplot as plt\n",
    "import sys\n",
    "from pathlib import Path\n",
    "import numpy as np\n",
    "from Na12HMMModel_TF import *\n",
    "import Na12HMMModel_TF as tf\n",
    "import os\n",
    "import efel_feature_extractor as ef\n",
    "from currentscape.currentscape import plot_currentscape\n",
    "import logging\n",
    "#logging.basicConfig(format='%(levelname)s:%(message)s', level=logging.DEBUG)  #logging.DEBUG when debug required\n",
    "%matplotlib inline\n",
    "\n",
    "\n",
    "######################make directories for plots for each na16 mutant. Comment out if you don't need folders\n",
    "\n",
    "root_path_out = '/global/homes/t/tfenton/Neuron_general-2/Plots/12HMM16HH_TF/SynthMuts_121123/'\n",
    "if not os.path.exists(root_path_out):\n",
    "        os.mkdir(root_path_out)\n",
    "\n",
    "# for i in range(1,13):\n",
    "#     for j in range (2,4):\n",
    "#         mutFolder ='mut'+str(i)+'_'+str(j)\n",
    "#         #print (mutFolder)\n",
    "\n",
    "#         path = os.path.join(root_path, mutFolder)\n",
    "#         os.mkdir(path)\n",
    "        \n",
    "        \n",
    "###  Make directories with names from list in txt file (mutant_names.txt)\n",
    "# file = open('/global/homes/t/tfenton/Neuron_general-2/JUPYTERmutant_list.txt','r')\n",
    "# Lines = file.readlines()\n",
    "# for line in Lines:\n",
    "#     print (line)\n",
    "#     mutTXT = line.strip()\n",
    "#     path = os.path.join(root_path_out,mutTXT)\n",
    "#     if not os.path.exists(path):\n",
    "#         os.mkdir(path)\n",
    "    \n",
    "#     print (mutTXT)\n",
    "#     print(line)\n",
    "\n",
    "    \n",
    "##################################################################\n",
    " \n",
    "#     sim = tf.Na12Model_TF(na12name = 'na12_HMM_TF100923',mut_name = mutTXT+'_na12hmm120523',\n",
    "#                       params_folder = './params/na12HMM_HOF_params/',\n",
    "#                       plots_folder = f'{root_path_out}/{mutTXT}/', pfx=f'{mutTXT}_')\n",
    "    \n",
    "#make WT \n",
    "sim = tf.Na12Model_TF(na12name = 'na12_HMM_TF100923',mut_name = 'na12_HMM_TF100923',\n",
    "                  params_folder = './params/na12HMM_HOF_params/',\n",
    "                  plots_folder = f'{root_path_out}/WT/', pfx=f'WT_')\n",
    "\n",
    "#make spiking and dvdt plots\n",
    "sim.plot_model_FI_Vs_dvdt([0.5], fnpre='test_')\n",
    "plt.show()\n",
    "\n",
    "#make currentscape plots\n",
    "sim.make_currentscape_plot(amp=0.5, time1=25,time2=60,stim_start=30, sweep_len=75)\n",
    "plt.show()\n",
    "sim.make_currentscape_plot(amp=0.5, time1=0,time2=100,stim_start=30, sweep_len=100)\n",
    "plt.show()\n",
    "\n",
    "    \n"
   ]
  }
 ],
 "metadata": {
  "kernelspec": {
   "display_name": "Python 3 (ipykernel)",
   "language": "python",
   "name": "python3"
  },
  "language_info": {
   "codemirror_mode": {
    "name": "ipython",
    "version": 3
   },
   "file_extension": ".py",
   "mimetype": "text/x-python",
   "name": "python",
   "nbconvert_exporter": "python",
   "pygments_lexer": "ipython3",
   "version": "3.8.10"
  }
 },
 "nbformat": 4,
 "nbformat_minor": 2
}

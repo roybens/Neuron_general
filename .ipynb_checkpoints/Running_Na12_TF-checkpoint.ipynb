{
 "cells": [
  {
   "cell_type": "code",
   "execution_count": null,
   "id": "3ce3694a",
   "metadata": {},
   "outputs": [],
   "source": [
    "import Na12Model_TF as tf \n",
    "import matplotlib.pyplot as plt\n",
    "import numpy as np\n",
    "import NrnHelper as NH\n",
    "from neuron import h\n",
    "#sim.make_hmm_wt()\n",
    "fig, ficurveax = plt.subplots(1, 1)"
   ]
  },
  {
   "cell_type": "code",
   "execution_count": null,
   "id": "10316920",
   "metadata": {},
   "outputs": [],
   "source": [
    "sim = tf.Na12Model_TF(na12name = 'na12_TF' , mut_name = 'na12_R850P_5may')\n",
    "#sim.make_wt()\n",
    "#fig_volts,axs_volts = plt.subplots(1,figsize=(cm_to_in(8),cm_to_in(7.8)))\n",
    "#sim.plot_stim(axs = axs_volts,dt=0.1,stim_amp = 0.5,rec_extra = True)"
   ]
  },
  {
   "cell_type": "code",
   "execution_count": null,
   "id": "d7684c6b",
   "metadata": {},
   "outputs": [],
   "source": [
    "print(sim.extra_vms)"
   ]
  },
  {
   "cell_type": "code",
   "execution_count": null,
   "id": "e83b6fd8",
   "metadata": {},
   "outputs": [],
   "source": [
    "sim = Na12Model_TF()\n",
    "#sim.make_wt()\n",
    "sim.make_current_scape()\n",
    "fig_volts,axs_volts = plt.subplots(1,figsize=(cm_to_in(8),cm_to_in(7.8)))\n",
    "fig_dvdt,axs_dvdt = plt.subplots(1,figsize=(cm_to_in(8),cm_to_in(7.8)))\n",
    "sim.plot_stim(axs = axs_volts,dt=0.005,stim_amp = 0.5)\n",
    "NH.plot_dvdt_from_volts(sim.volt_soma,sim.dt,axs_dvdt,skip_first = True)\n"
   ]
  },
  {
   "cell_type": "code",
   "execution_count": null,
   "id": "fe6e4782",
   "metadata": {},
   "outputs": [],
   "source": [
    "#sim = NaMut(mut_name = 'A427D')\n",
    "sim = Na12Model_TF()\n",
    "sim.make_het()\n",
    "sim.plot_stim(stim_amp = 0.7)\n",
    "#h.ais_KCa *=1\n",
    "#h.ais_ca *=10\n",
    "h.working()\n",
    "#sim.plot_currents(dt=0.1,stim_amp = 0.7)"
   ]
  },
  {
   "cell_type": "code",
   "execution_count": null,
   "id": "358ff6c2",
   "metadata": {},
   "outputs": [],
   "source": []
  },
  {
   "cell_type": "code",
   "execution_count": null,
   "id": "363e65d6",
   "metadata": {},
   "outputs": [],
   "source": [
    "sim.plot_stim(stim_amp = 0.7)"
   ]
  },
  {
   "cell_type": "code",
   "execution_count": null,
   "id": "829bece3",
   "metadata": {},
   "outputs": [],
   "source": [
    "fis = sim.plot_wt_mut_fi()"
   ]
  },
  {
   "cell_type": "code",
   "execution_count": null,
   "id": "4b576aa2",
   "metadata": {},
   "outputs": [],
   "source": [
    "NH.plot_FIs(fis)"
   ]
  },
  {
   "cell_type": "code",
   "execution_count": null,
   "id": "49998608",
   "metadata": {},
   "outputs": [],
   "source": [
    "sim = NaMut(mut_name = 'R853Q')\n",
    "sim.plot_stim()"
   ]
  },
  {
   "cell_type": "code",
   "execution_count": null,
   "id": "51d1113f",
   "metadata": {},
   "outputs": [],
   "source": [
    "fis = sim.plot_wt_mut_fi()"
   ]
  },
  {
   "cell_type": "code",
   "execution_count": null,
   "id": "f6f82cf6",
   "metadata": {},
   "outputs": [],
   "source": [
    "NH.plot_FIs(fis)"
   ]
  },
  {
   "cell_type": "code",
   "execution_count": null,
   "id": "69c9779e",
   "metadata": {},
   "outputs": [],
   "source": [
    "sim = NA12Model_TF(mut_name = 'E430A')\n",
    "sim.plot_stim()"
   ]
  },
  {
   "cell_type": "code",
   "execution_count": null,
   "id": "df87bf07",
   "metadata": {},
   "outputs": [],
   "source": [
    "fis = sim.plot_wt_mut_fi()"
   ]
  },
  {
   "cell_type": "code",
   "execution_count": null,
   "id": "e5fafad2",
   "metadata": {},
   "outputs": [],
   "source": [
    "NH.plot_FIs(fis)"
   ]
  }
 ],
 "metadata": {
  "kernelspec": {
   "display_name": "Python 3 (ipykernel)",
   "language": "python",
   "name": "python3"
  },
  "language_info": {
   "codemirror_mode": {
    "name": "ipython",
    "version": 3
   },
   "file_extension": ".py",
   "mimetype": "text/x-python",
   "name": "python",
   "nbconvert_exporter": "python",
   "pygments_lexer": "ipython3",
   "version": "3.8.10"
  }
 },
 "nbformat": 4,
 "nbformat_minor": 5
}

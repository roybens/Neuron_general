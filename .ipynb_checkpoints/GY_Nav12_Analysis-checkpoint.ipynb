{
 "cells": [
  {
   "cell_type": "markdown",
   "id": "62ee3ee1",
   "metadata": {},
   "source": [
    "\n",
    "# Developing_12HMM\n"
   ]
  },
  {
   "cell_type": "markdown",
   "id": "53af245c",
   "metadata": {},
   "source": [
    "## KT/KP Effect"
   ]
  },
  {
   "cell_type": "markdown",
   "id": "e3e58e12",
   "metadata": {},
   "source": [
    "# WT"
   ]
  },
  {
   "cell_type": "code",
   "execution_count": null,
   "id": "b423fb1b",
   "metadata": {
    "scrolled": true
   },
   "outputs": [],
   "source": [
    "import Developing_12HMM as Dev\n",
    "import matplotlib.pyplot as plt\n",
    "import numpy as np\n",
    "import NrnHelper as NH\n",
    "import Na12ModelGY as Mature\n",
    "\"\"\"\n",
    "mut_name =  'na12_orig1'\n",
    "na12name = 'na12_orig1'\n",
    "na16name = 'na12_orig1'\n",
    "mut16_name =  'na12_orig1'\n",
    "\n",
    "\n",
    "for i in np.arange(0.1,5,1):\n",
    "    for j in np.arange(0.1,5,1):\n",
    "        KT=i\n",
    "        KP=j\n",
    "        sim = Dev.Developing_12HMM(mut_name = mut_name, na12name = na12name ,na16name = na16name , mut16_name = mut16_name,KT=KT, KP=KP)\n",
    "        sim.plot_fi_curve(0,2,8,fn = f'KT:{KT}_KP:{KP}')\n",
    "\n",
    "sim = Dev.Developing_12HMM(mut_name = mut_name, na12name = na12name ,na16name = na16name , mut16_name = mut16_name)\n",
    "sim.plot_fi_curve(0,5,10,fn = f'KT:0.1_KP:0.1')\n",
    "#sim.plot_stim(stim_amp = 2,dt = 0.05)\n",
    "\"\"\"\n",
    "sim = Mature.Na12ModelGY(na12name = 'na12_orig1',mut_name= 'na12_R850P_old')\n",
    "sim.plot_fi_curve(0,5,10,fn = f'KT:0.1_KP:0.1')\n",
    "sim.plot_stim(stim_amp = 2,dt = 0.05)"
   ]
  },
  {
   "cell_type": "code",
   "execution_count": null,
   "id": "2988990a",
   "metadata": {},
   "outputs": [],
   "source": []
  },
  {
   "cell_type": "markdown",
   "id": "54503514",
   "metadata": {},
   "source": [
    "# Het"
   ]
  },
  {
   "cell_type": "code",
   "execution_count": null,
   "id": "6e8017db",
   "metadata": {
    "scrolled": true
   },
   "outputs": [],
   "source": [
    "import Developing_12HMM as Dev\n",
    "import matplotlib.pyplot as plt\n",
    "import numpy as np\n",
    "import NrnHelper as NH\n",
    "\n",
    "mut_name = 'na12_R850P_6July_1'\n",
    "na12name = 'na12_orig1'\n",
    "na16name = 'na12_orig1'\n",
    "mut16_name = 'na12_R850P_6July_1'\n",
    "\"\"\"\n",
    "for i in np.arange(0.1,5,1):\n",
    "    for j in np.arange(0.1,5,1):\n",
    "        KT=i\n",
    "        KP=j\n",
    "        sim = Dev.Developing_12HMM(mut_name = mut_name, na12name = na12name ,na16name = na16name , mut16_name = mut16_name,KT=KT, KP=KP)\n",
    "        sim.plot_fi_curve(0,2,8,fn = f'Het_KT:{KT}_KP:{KP}')\n",
    "\"\"\"\n",
    "sim = Dev.Developing_12HMM(mut_name = mut_name, na12name = na12name ,na16name = na16name , mut16_name = mut16_name)\n",
    "sim.plot_fi_curve(0,5,10,fn = f'newUDB')\n"
   ]
  },
  {
   "cell_type": "code",
   "execution_count": null,
   "id": "0e990e01",
   "metadata": {},
   "outputs": [],
   "source": []
  },
  {
   "cell_type": "markdown",
   "id": "3ec78c21",
   "metadata": {},
   "source": [
    "# Hom"
   ]
  },
  {
   "cell_type": "code",
   "execution_count": null,
   "id": "a630dacd",
   "metadata": {
    "scrolled": true
   },
   "outputs": [],
   "source": [
    "import Developing_12HMM as Dev\n",
    "import matplotlib.pyplot as plt\n",
    "import numpy as np\n",
    "import NrnHelper as NH\n",
    "\n",
    "mut_name = 'na12_R850P_6July_1'\n",
    "na12name = 'na12_R850P_6July_1'\n",
    "na16name = 'na12_R850P_6July_1'\n",
    "mut16_name = 'na12_R850P_6July_1'\n",
    "peaks=[]\n",
    "\"\"\"\n",
    "for i in np.arange(0.1,5,1):\n",
    "    for j in np.arange(0.1,5,1):\n",
    "        KT=i\n",
    "        KP=j\n",
    "        sim = Dev.Developing_12HMM(mut_name = mut_name, na12name = na12name ,na16name = na16name , mut16_name = mut16_name,KT=KT, KP=KP)\n",
    "        p = sim.plot_fi_curve(0,2,8,fn = f'Hom_KT:{KT}_KP:{KP}')\n",
    "        peaks.append(p)\n",
    "        \n",
    "\"\"\"\n",
    "sim = Dev.Developing_12HMM(mut_name = mut_name, na12name = na12name ,na16name = na16name , mut16_name = mut16_name)\n",
    "#sim.plot_stim(stim_amp = 0.7,dt = 0.1)\n",
    "sim.plot_fi_curve(0,5,10,fn = f'Hom_KT:1')"
   ]
  },
  {
   "cell_type": "code",
   "execution_count": null,
   "id": "b96ca8eb",
   "metadata": {},
   "outputs": [],
   "source": [
    "sim = Dev.Developing_12HMM(mut_name = mut_name, na12name = na12name ,na16name = na16name , mut16_name = mut16_name, KT=1, KP=1)\n",
    "sim.plot_fi_curve(0,2,8,fn = f'Hom_KT:1_KP:1')"
   ]
  },
  {
   "cell_type": "code",
   "execution_count": null,
   "id": "050196b7",
   "metadata": {},
   "outputs": [],
   "source": [
    "sim = Dev.Developing_12HMM(mut_name = mut_name, na12name = na12name ,na16name = na16name , mut16_name = mut16_name,KT=0.1, KP=0.1)\n",
    "sim.plot_fi_curve(0,5,31,fn = f'Hom_KT:0.1_KP:0.1')"
   ]
  },
  {
   "cell_type": "markdown",
   "id": "247b396c",
   "metadata": {},
   "source": [
    "# Na effect\n"
   ]
  },
  {
   "cell_type": "code",
   "execution_count": null,
   "id": "cb5aa005",
   "metadata": {},
   "outputs": [],
   "source": [
    "import Developing_12HMM as Dev\n",
    "import matplotlib.pyplot as plt\n",
    "import numpy as np\n",
    "import NrnHelper as NH\n"
   ]
  },
  {
   "cell_type": "markdown",
   "id": "2c63acd4",
   "metadata": {},
   "source": [
    "WT"
   ]
  },
  {
   "cell_type": "code",
   "execution_count": null,
   "id": "f699b802",
   "metadata": {},
   "outputs": [],
   "source": [
    "mut_name = 'na12_orig1'\n",
    "na12name = 'na12_orig1'\n",
    "na16name = 'na12_orig1'\n",
    "mut16_name = 'na12_orig1'\n",
    "\n",
    "peaks_Na=[]\n",
    "for i in np.arange(2,4,0.5):\n",
    "    Na16=i\n",
    "    Na12=i\n",
    "    sim = Dev.Developing_12HMM(mut_name = mut_name, na12name = na12name ,na16name = na16name , mut16_name = mut16_name, soma_na16=i, soma_na12=j ,KT=3, KP=1)\n",
    "    p = sim.plot_fi_curve(0,2,8,fn = f'WT_Na16:{Na16}_Na12:{Na12}')\n",
    "    peaks_Na.append(p)\n",
    "        \n",
    "print(peaks_Na)\n",
    "\"\"\"\n",
    "np.arange(1,2,0.1)\n",
    "[[0, 0, 0, 0, 0, 0, 1, 1], [0, 0, 0, 0, 0, 0, 1, 1], [0, 0, 0, 0, 0, 0, 1, 1], [0, 0, 0, 0, 0, 0, 1, 1], [0, 0, 0, 0, 0, 0, 1, 1], [0, 0, 0, 0, 0, 0, 1, 1], [0, 0, 0, 0, 0, 0, 1, 1], [0, 0, 0, 0, 0, 0, 1, 1], [0, 0, 0, 0, 0, 0, 1, 1], [0, 0, 0, 0, 0, 0, 1, 1]]\n",
    "\"\"\"       "
   ]
  },
  {
   "cell_type": "markdown",
   "id": "e7835140",
   "metadata": {},
   "source": [
    "Het"
   ]
  },
  {
   "cell_type": "code",
   "execution_count": null,
   "id": "fdf45cea",
   "metadata": {},
   "outputs": [],
   "source": [
    "\n",
    "mut_name = 'na12_R850P_old'\n",
    "na12name = 'na12_orig1'\n",
    "na16name = 'na12_orig1'\n",
    "mut16_name = 'na12_R850P_old'\n",
    "\n",
    "for i in np.arange(0.1,1,0.1):\n",
    "    for j in np.arange(0.1,1,0.1):\n",
    "        Na16=i\n",
    "        Na12=j\n",
    "        sim = Dev.Developing_12HMM(mut_name = mut_name, na12name = na12name ,na16name = na16name , mut16_name = mut16_name,soma_na16=i, soma_na12= j,KT=3, KP=1)\n",
    "        sim.plot_fi_curve(0,2,8,fn = f'Het_Na16:{Na16}_Na12:{Na12}')"
   ]
  },
  {
   "cell_type": "markdown",
   "id": "2679d1ae",
   "metadata": {},
   "source": [
    "Hom"
   ]
  },
  {
   "cell_type": "code",
   "execution_count": null,
   "id": "cb63bd02",
   "metadata": {},
   "outputs": [],
   "source": [
    "mut_name = 'na12_R850P_old'\n",
    "na12name = 'na12_R850P_old'\n",
    "na16name = 'na12_R850P_old'\n",
    "mut16_name = 'na12_R850P_old'\n",
    "\n",
    "for i in np.arange(0.1,1,0.1):\n",
    "    for j in np.arange(0.1,1,0.1):\n",
    "        Na16=i\n",
    "        Na12=j\n",
    "        sim = Dev.Developing_12HMM(mut_name = mut_name, na12name = na12name ,na16name = na16name , mut16_name = mut16_name,soma_na16=i, soma_na12= j,KT=3, KP=1)\n",
    "        sim.plot_fi_curve(0,2,8,fn = f'Hom_Na16:{Na16}_Na12:{Na12}')"
   ]
  }
 ],
 "metadata": {
  "kernelspec": {
   "display_name": "Python 3 (ipykernel)",
   "language": "python",
   "name": "python3"
  },
  "language_info": {
   "codemirror_mode": {
    "name": "ipython",
    "version": 3
   },
   "file_extension": ".py",
   "mimetype": "text/x-python",
   "name": "python",
   "nbconvert_exporter": "python",
   "pygments_lexer": "ipython3",
   "version": "3.8.10"
  },
  "vscode": {
   "interpreter": {
    "hash": "916dbcbb3f70747c44a77c7bcd40155683ae19c65e1c03b4aa3499c5328201f1"
   }
  }
 },
 "nbformat": 4,
 "nbformat_minor": 5
}

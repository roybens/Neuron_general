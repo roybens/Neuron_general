{
 "cells": [
  {
   "cell_type": "markdown",
   "metadata": {
    "id": "g2w7tTDyZmgp"
   },
   "source": [
    "# Working with numbers\n",
    "For this exercise you will be creating variables and working with numbers. The first part will work on calculating number of weeks in a year. \n",
    "1. Create an integer variable with the number of days in a year called `days_in_a_year` and create an integer variable with the number of days in a week called `days_in_a_week`. \n",
    "1. Using the two variables calculate the whole number of weeks in a year and assign it to a variable called `weeks_in_a_year`. \n",
    "1. Using the two variables `days_in_a_year` and `days_in_a_week` calculate the remainder number of days in a year and assign it to a variable called `remainder_days`.\n",
    "\n",
    "For the second part will calculate the number of square feet in an area. \n",
    "1. Create an integer variable with the number of inches in a foot called `inches_in_a_foot`.\n",
    "1. Create two integer width variables `width_feet` and `width_inches` to hold the width of the area that is 6'9\".\n",
    "1. Create two integer depth variables `depth_feet` and `depth_inches` to hold the width of the area that is 3'5\".\n",
    "1. Using the variables calculate the number of square feet and assign it to a variable called `area_in_sq_ft`."
   ]
  },
  {
   "cell_type": "code",
   "execution_count": 11,
   "metadata": {
    "id": "jMDKzVcSZVTD"
   },
   "outputs": [
    {
     "name": "stdout",
     "output_type": "stream",
     "text": [
      "1\n"
     ]
    },
    {
     "data": {
      "text/plain": [
       "23.0625"
      ]
     },
     "execution_count": 11,
     "metadata": {},
     "output_type": "execute_result"
    }
   ],
   "source": [
    "# Replace ... with your code\n",
    "days_in_a_year = int(365)\n",
    "days_in_a_week = int(7)\n",
    "weeks_in_a_year = int(days_in_a_year/days_in_a_week)\n",
    "remainder_days = days_in_a_year - int(weeks_in_a_year)*7\n",
    "print(remainder_days)\n",
    "\n",
    "\n",
    "inches_in_a_foot = int(12)\n",
    "width_feet, width_inches = int(6), int(9)\n",
    "depth_feet = int(3)\n",
    "depth_inches = int(5)\n",
    "\n",
    "area_in_sq_ft = (width_feet + width_inches/inches_in_a_foot)*(depth_feet + depth_inches/inches_in_a_foot)\n",
    "area_in_sq_ft"
   ]
  },
  {
   "cell_type": "markdown",
   "metadata": {
    "id": "GcsGPQpnpxAV"
   },
   "source": [
    "Run the code block below after running your code to check that it is correct. If you see an output of `Correct` below the block everything is correct. If you see something like `AssertionError`, then you have a mistake."
   ]
  },
  {
   "cell_type": "code",
   "execution_count": 12,
   "metadata": {
    "colab": {
     "base_uri": "https://localhost:8080/",
     "height": 240
    },
    "id": "wzAHiW6bieOI",
    "outputId": "2e957137-3354-49f4-98e3-99d8ead6e70f"
   },
   "outputs": [
    {
     "name": "stdout",
     "output_type": "stream",
     "text": [
      "Correct\n"
     ]
    }
   ],
   "source": [
    "# Don't modify this code\n",
    "assert 'days_in_a_year' in locals()\n",
    "assert type(days_in_a_year) == int\n",
    "assert 'days_in_a_week' in locals()\n",
    "assert type(days_in_a_week) == int\n",
    "assert 'weeks_in_a_year' in locals()\n",
    "assert type(weeks_in_a_year) == int\n",
    "assert weeks_in_a_year == 52\n",
    "assert 'remainder_days' in locals()\n",
    "assert type(remainder_days) == int\n",
    "assert remainder_days in (1,2)\n",
    "assert 'inches_in_a_foot' in locals()\n",
    "assert type(inches_in_a_foot) == int\n",
    "assert 'width_feet' in locals()\n",
    "assert type(width_feet) == int\n",
    "assert width_feet == 6\n",
    "assert 'width_inches' in locals()\n",
    "assert type(width_inches) == int\n",
    "assert width_inches == 9\n",
    "assert 'depth_feet' in locals()\n",
    "assert type(depth_feet) == int\n",
    "assert depth_feet == 3\n",
    "assert 'depth_inches' in locals()\n",
    "assert type(depth_inches) == int\n",
    "assert depth_inches == 5\n",
    "assert 'area_in_sq_ft' in locals()\n",
    "assert type(area_in_sq_ft) == float\n",
    "assert area_in_sq_ft == 23.0625\n",
    "print('Correct')"
   ]
  },
  {
   "cell_type": "markdown",
   "metadata": {
    "id": "kuaouCQttXKM"
   },
   "source": [
    "# Working with sequences\n",
    "For this exercise you will be creating variables and working with lists and tuples.\n",
    "1. Create a tuple with the days of the week as strings starting with `'Sunday'`, call the variable `days_of_the_week`. \n",
    "1. Using the `days_of_the_week` variable create a new variable called `week_days`.\n",
    "1. Create a list copy of the `days_of_the_week` called `days_list`.\n",
    "1. Sort the `days_list` with the `.sort()` function.\n"
   ]
  },
  {
   "cell_type": "code",
   "execution_count": 18,
   "metadata": {
    "id": "MqI0zWDkuYBV"
   },
   "outputs": [
    {
     "data": {
      "text/plain": [
       "['Friday', 'Monday', 'Saturday', 'Sunday', 'Thursday', 'Tuesday', 'Wednesday']"
      ]
     },
     "execution_count": 18,
     "metadata": {},
     "output_type": "execute_result"
    }
   ],
   "source": [
    "# Replace ... with your code\n",
    "days_of_the_week = ('Sunday','Saturday','Monday', 'Tuesday', 'Wednesday', 'Thursday', 'Friday')\n",
    "week_days = days_of_the_week[2:]\n",
    "days_list = list(days_of_the_week)\n",
    "days_list.sort()\n",
    "days_list"
   ]
  },
  {
   "cell_type": "markdown",
   "metadata": {
    "id": "WYfr9VMzuXhd"
   },
   "source": [
    "Run the code block below after running your code to check that it is correct. If you see an output of `Correct` below the block everything is correct. If you see something like `AssertionError`, then you have a mistake."
   ]
  },
  {
   "cell_type": "code",
   "execution_count": 19,
   "metadata": {
    "colab": {
     "base_uri": "https://localhost:8080/",
     "height": 240
    },
    "id": "Lxxwt1hVuXQ3",
    "outputId": "89a6530e-2b30-4356-bd73-5c784c3a8aa4"
   },
   "outputs": [
    {
     "name": "stdout",
     "output_type": "stream",
     "text": [
      "Correct\n"
     ]
    }
   ],
   "source": [
    "# Don't modify this code\n",
    "assert 'days_of_the_week' in locals()\n",
    "assert type(days_of_the_week) == tuple\n",
    "assert len(days_of_the_week) == 7\n",
    "assert 'week_days' in locals()\n",
    "assert type(week_days) in (tuple,list)\n",
    "assert len(week_days) == 5\n",
    "assert 'days_list' in locals()\n",
    "assert type(days_list) == list\n",
    "assert len(days_list) == 7\n",
    "assert days_list == sorted(days_list)\n",
    "assert days_list[0] == 'Friday'\n",
    "assert days_list[-1] == 'Wednesday'\n",
    "print('Correct')"
   ]
  },
  {
   "cell_type": "markdown",
   "metadata": {
    "id": "kipSs7rRxYog"
   },
   "source": [
    "# Working with dictionaries and format strings\n",
    "For this exercise you will be working with dictionaries and format strings.\n",
    "1. Create a dictionary the translates the month number to its name called `months_dict`. \n",
    "1. Using the `today_year`, `today_month`, `today_day`, and `months_dict` variables create a formatted string called `today_string` of the form `'Month Day, Year'`.\n",
    "1. Using the `plus_500_days_year`, `plus_500_days_month`, `plus_500_days_day`, and `months_dict` variables create a formatted string called `plus_500_days_string` of the form `'Month Day, Year'`."
   ]
  },
  {
   "cell_type": "code",
   "execution_count": 41,
   "metadata": {
    "colab": {
     "base_uri": "https://localhost:8080/"
    },
    "id": "VnRrftcEx1dW",
    "outputId": "68678358-bfe2-4207-fabd-2b72420048ad"
   },
   "outputs": [
    {
     "data": {
      "text/plain": [
       "'January 29, 2026'"
      ]
     },
     "execution_count": 41,
     "metadata": {},
     "output_type": "execute_result"
    }
   ],
   "source": [
    "# This code gets todays date\n",
    "from datetime import datetime,timedelta\n",
    "datetime_today = datetime.today()\n",
    "today_year,today_month,today_day = datetime_today.year,datetime_today.month,datetime_today.day\n",
    "plus_500_days = datetime_today + timedelta(days=500)\n",
    "plus_500_days_year,plus_500_days_month,plus_500_days_day = plus_500_days.year,plus_500_days.month,plus_500_days.day\n",
    "# Replace ... with your code\n",
    "months_dict = {1: 'January', 2: 'February', 3: 'March', 4: 'April', 5 : 'May', 6 : 'June', 7:'July', \n",
    "               8: 'August', 9: 'September', 10: 'October', 11: 'November', 12: 'December'}\n",
    "              \n",
    "today_string = str(months_dict[int(today_month)]) + ' '+ str(today_day) +', ' + str(today_year)\n",
    "plus_500_days_string = str(months_dict[int(plus_500_days_month)]) + ' '+ str(plus_500_days_day) +', '+ str(plus_500_days_year)\n",
    " \n",
    "today_string\n",
    "plus_500_days_string"
   ]
  },
  {
   "cell_type": "markdown",
   "metadata": {
    "id": "QcOHeQtSx0Pi"
   },
   "source": [
    "Run the code block below after running your code to check that it is correct. If you see an output of `Correct` below the block everything is correct. If you see something like `AssertionError`, then you have a mistake."
   ]
  },
  {
   "cell_type": "code",
   "execution_count": 42,
   "metadata": {
    "colab": {
     "base_uri": "https://localhost:8080/",
     "height": 240
    },
    "id": "g1TjrW3Xz2au",
    "outputId": "83ebcbda-e10c-4711-f443-7457068b04b3"
   },
   "outputs": [
    {
     "name": "stdout",
     "output_type": "stream",
     "text": [
      "Correct\n"
     ]
    }
   ],
   "source": [
    "assert 'months_dict' in locals()\n",
    "assert type(months_dict) == dict\n",
    "assert len(months_dict) == 12\n",
    "assert sorted(months_dict.keys()) == [i for i in range(1,13)]\n",
    "assert 'today_string' in locals()\n",
    "assert type(today_string) == str\n",
    "assert today_string == datetime.today().strftime('%B %-d, %Y')\n",
    "assert plus_500_days_string == (datetime.today()+ timedelta(days=500)).strftime('%B %-d, %Y')\n",
    "print('Correct')"
   ]
  },
  {
   "cell_type": "markdown",
   "metadata": {
    "id": "y7zH73cBvQB_"
   },
   "source": [
    "# Converting types\n",
    "For this exercise you will need to convert types to complete the steps.\n",
    "1. Extract the values from the dictionary `quadratic_dict`, and convert them to floating point values. Name the variables `a`, `b`, `c`, and `x`.\n",
    "1. Calcualte the value of `y` where: $$y = ax^2 + bx + c$$ and assign it to the variable `y`.\n",
    "1. Insert the value of `y` as a string into `quadratic_dict` with the key of `'y'`.\n"
   ]
  },
  {
   "cell_type": "code",
   "execution_count": 54,
   "metadata": {
    "colab": {
     "base_uri": "https://localhost:8080/"
    },
    "id": "B2Hjdhq5vmMz",
    "outputId": "4e89016c-53b9-49fd-e504-17b297dc3c83"
   },
   "outputs": [
    {
     "data": {
      "text/plain": [
       "34.71875"
      ]
     },
     "execution_count": 54,
     "metadata": {},
     "output_type": "execute_result"
    }
   ],
   "source": [
    "quadratic_dict = {'a':'2.5','b':'-1.75','c':'14','x':'3.25'}\n",
    "# Replace ... with your code\n",
    "import math\n",
    "a, b, c, x  = float(quadratic_dict['a']),float(quadratic_dict['b']), float(quadratic_dict['c']), float(quadratic_dict['x'])\n",
    "y = a * pow(x,2) + b * x + c\n",
    "quadratic_dict['y'] = str(y)\n",
    "y"
   ]
  },
  {
   "cell_type": "markdown",
   "metadata": {
    "id": "J-Dc-25Nvmt0"
   },
   "source": [
    "Run the code block below after running your code to check that it is correct. If you see an output of `Correct` below the block everything is correct. If you see something like `AssertionError`, then you have a mistake."
   ]
  },
  {
   "cell_type": "code",
   "execution_count": 55,
   "metadata": {
    "colab": {
     "base_uri": "https://localhost:8080/",
     "height": 240
    },
    "id": "zXhyqpU9vnBw",
    "outputId": "1f855d0d-2c53-4571-edd8-cd869a4fb124"
   },
   "outputs": [
    {
     "name": "stdout",
     "output_type": "stream",
     "text": [
      "Correct\n"
     ]
    }
   ],
   "source": [
    "assert 'a' in locals()\n",
    "assert type(a) == float\n",
    "assert a == 2.5\n",
    "assert 'b' in locals()\n",
    "assert type(b) == float\n",
    "assert b == -1.75\n",
    "assert 'c' in locals()\n",
    "assert type(c) == float\n",
    "assert c == 14.0\n",
    "assert 'x' in locals()\n",
    "assert type(x) == float\n",
    "assert x == 3.25\n",
    "assert 'y' in locals()\n",
    "assert type(y) == float\n",
    "assert y == 34.71875\n",
    "assert 'y' in quadratic_dict\n",
    "assert type(quadratic_dict['y']) == str\n",
    "assert quadratic_dict['y'] == '34.71875'\n",
    "print('Correct')"
   ]
  },
  {
   "cell_type": "code",
   "execution_count": null,
   "metadata": {},
   "outputs": [],
   "source": []
  }
 ],
 "metadata": {
  "colab": {
   "provenance": []
  },
  "kernelspec": {
   "display_name": "Python 3 (ipykernel)",
   "language": "python",
   "name": "python3"
  },
  "language_info": {
   "codemirror_mode": {
    "name": "ipython",
    "version": 3
   },
   "file_extension": ".py",
   "mimetype": "text/x-python",
   "name": "python",
   "nbconvert_exporter": "python",
   "pygments_lexer": "ipython3",
   "version": "3.8.10"
  }
 },
 "nbformat": 4,
 "nbformat_minor": 1
}

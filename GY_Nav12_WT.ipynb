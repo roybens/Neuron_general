{
 "cells": [
  {
   "cell_type": "markdown",
   "id": "100c134c",
   "metadata": {},
   "source": [
    "# Change NaMut before running"
   ]
  },
  {
   "cell_type": "code",
   "execution_count": 5,
   "id": "02428da2",
   "metadata": {},
   "outputs": [
    {
     "name": "stdout",
     "output_type": "stream",
     "text": [
      "running model at /ghazaleh/Neuron_Model_HMM run dir is /ghazaleh\n",
      "ran working\n",
      "using wt_file na12WT3\n",
      "updating ['na12'] with {'a1_0': 2.429666594996582, 'a1_1': 0.044244542778632004, 'b1_0': 0.7286692995039887, 'b1_1': 0.06952982757643832, 'a2_0': 6204.820201739884, 'a2_1': 0.13070224427007862, 'b2_0': 797.6077523565608, 'b2_1': 0.19562008675321318, 'a3_0': 218.91724035330077, 'a3_1': 0.16191659929284918, 'b3_0': 3080.738457191511, 'b3_1': 0.016493962745893074, 'bh_0': 0.21138260460030908, 'bh_1': 2.800849199329988, 'bh_2': 0.11261781629256429, 'ah_0': 2.3050883622931004, 'ah_1': 77545.8869487112, 'ah_2': 0.0006685395263358665, 'vShift': -26.13746818612549, 'vShift_inact': 21.437824522365858, 'maxrate': 4754.97773178582, 'ahfactor': 210.0114379719879, 'bhfactor': 12.581449212564298}\n",
      "using mut_file na12WT3\n",
      "updating ['na12mut'] with {'a1_0': 2.429666594996582, 'a1_1': 0.044244542778632004, 'b1_0': 0.7286692995039887, 'b1_1': 0.06952982757643832, 'a2_0': 6204.820201739884, 'a2_1': 0.13070224427007862, 'b2_0': 797.6077523565608, 'b2_1': 0.19562008675321318, 'a3_0': 218.91724035330077, 'a3_1': 0.16191659929284918, 'b3_0': 3080.738457191511, 'b3_1': 0.016493962745893074, 'bh_0': 0.21138260460030908, 'bh_1': 2.800849199329988, 'bh_2': 0.11261781629256429, 'ah_0': 2.3050883622931004, 'ah_1': 77545.8869487112, 'ah_2': 0.0006685395263358665, 'vShift': -26.13746818612549, 'vShift_inact': 21.437824522365858, 'maxrate': 4754.97773178582, 'ahfactor': 210.0114379719879, 'bhfactor': 12.581449212564298}\n",
      "ran working\n",
      "updating ['na12mut'] with {'a1_0': 2.429666594996582, 'a1_1': 0.044244542778632004, 'b1_0': 0.7286692995039887, 'b1_1': 0.06952982757643832, 'a2_0': 6204.820201739884, 'a2_1': 0.13070224427007862, 'b2_0': 797.6077523565608, 'b2_1': 0.19562008675321318, 'a3_0': 218.91724035330077, 'a3_1': 0.16191659929284918, 'b3_0': 3080.738457191511, 'b3_1': 0.016493962745893074, 'bh_0': 0.21138260460030908, 'bh_1': 2.800849199329988, 'bh_2': 0.11261781629256429, 'ah_0': 2.3050883622931004, 'ah_1': 77545.8869487112, 'ah_2': 0.0006685395263358665, 'vShift': -26.13746818612549, 'vShift_inact': 21.437824522365858, 'maxrate': 4754.97773178582, 'ahfactor': 210.0114379719879, 'bhfactor': 12.581449212564298}\n"
     ]
    },
    {
     "data": {
      "image/png": "[encoded data removed]",
      "text/plain": [
       "<Figure size 226.772x221.102 with 1 Axes>"
      ]
     },
     "metadata": {
      "needs_background": "light"
     },
     "output_type": "display_data"
    },
    {
     "data": {
      "text/plain": [
       "<AxesSubplot:>"
      ]
     },
     "execution_count": 5,
     "metadata": {},
     "output_type": "execute_result"
    },
    {
     "data": {
      "text/plain": [
       "<Figure size 432x288 with 0 Axes>"
      ]
     },
     "metadata": {},
     "output_type": "display_data"
    }
   ],
   "source": [
    "from NaMut import *\n",
    "import matplotlib.pyplot as plt\n",
    "import numpy as np\n",
    "import NrnHelper as NH\n",
    "sim = NaMut(mut_name = 'na12WT3', wt_file= 'na12WT3')\n",
    "sim.make_wt()\n",
    "#sim = NaMut(mut_name = 'R850P_3March_GY')\n",
    "#sim.make_het()\n",
    "#sim= NaMut(mut_name = 'R850P', wt_file= 'R850P')\n",
    "#sim.make_wt()\n",
    "#'9Dec_prst10_SSIslope100_b10_3'= 'R850P'\n",
    "\n",
    "fig_volts,axs_volts = plt.subplots(1,figsize=(cm_to_in(8),cm_to_in(7.8)))\n",
    "sim.plot_stim(axs = axs_volts,dt=0.1,stim_amp = 0.5,rec_extra = True)\n",
    "\n"
   ]
  },
  {
   "cell_type": "code",
   "execution_count": null,
   "id": "c56461c8",
   "metadata": {},
   "outputs": [],
   "source": [
    "sim.plot_currents(stim_amp = 0.7)"
   ]
  },
  {
   "cell_type": "code",
   "execution_count": null,
   "id": "83b75d87",
   "metadata": {},
   "outputs": [],
   "source": []
  },
  {
   "cell_type": "code",
   "execution_count": 6,
   "id": "3639b252",
   "metadata": {},
   "outputs": [],
   "source": [
    "def detect_spikes(Vm, time, dVdt_thresh = 15, min_spike_len = 0.0002, properties=True):\n",
    "    '''\n",
    "    Method for idenifying spikes based on rates of change in the membrane potential\n",
    "    INPUTS:\n",
    "    Vm: array-like - membrane potential (mV)\n",
    "    time: array-like - time corresponding to Vm (sec)\n",
    "    dVdt_thresh: float - Threshold for determining spike initiation (V/s)\n",
    "    min_spike_len: float - Minimum length of time dVdt must be above dVdt_thresh to be considered a spike (sec)\n",
    "    properties: Bool - If true, returns spike_times and spike_properties. Otherwise returns only spike_properties\n",
    "\n",
    "    Output:\n",
    "    array of spike times\n",
    "\n",
    "    Identification of spike start times:\n",
    "    dVdt is first quanitified from Vm and time\n",
    "    Continuous tretches (runs) of dVdt above dVdt_thresh are identified, and then esured to last longer than min_spike_len\n",
    "\n",
    "    Spike Property measurement:\n",
    "    spike_end is determined by finding the second zero crossing of dVdt after spike dVdt_threshold\n",
    "    First zero crossing is AP peak, second should be end of repolarization phase\n",
    "    Persistent zero crossing (must stay above zero for 3 continous points) is used to make sure that noise in slowly repolarizing spikes doesn't trigger spike end\n",
    "    '''\n",
    "    if len(Vm) != len(time):\n",
    "        raise Exception(\"Vm and time must be the same length\")\n",
    "\n",
    "    #determine stretches where dVdt exceeds dVdt_thresh\n",
    "    dVdt = np.gradient(Vm,time)/1e3\n",
    "    runs = group_consecutives(np.argwhere((dVdt>=dVdt_thresh)).flatten())\n",
    "\n",
    "    #If runs are longer than min_spike_len count as a spike\n",
    "    dt = time[1]-time[0] #sample rate\n",
    "    min_run_len = np.ceil(min_spike_len/dt)\n",
    "    spike_times = []\n",
    "    for run in runs:\n",
    "        if len(run) > min_run_len:\n",
    "            spike_times.append(time[run[0]])\n",
    "    spike_times = np.asarray(spike_times)\n",
    "\n",
    "    if not properties: #just return spike_times\n",
    "        return spike_times\n",
    "\n",
    "    #get spike properties\n",
    "    spike_properties=[]\n",
    "    for spike_time in spike_times:\n",
    "        #find index of spike_time in time\n",
    "        spike_start_idx = np.argwhere(spike_time == time)[0][0]\n",
    "\n",
    "        #find zero crossings of dVdt after spike dVdt_threshold\n",
    "        zero_crosses = find_zero_crossing(dVdt[spike_start_idx:-1])\n",
    "        #make sure zero cross is persistent to account for noise\n",
    "        if len(zero_crosses) > 1:\n",
    "            spike_end_idx = spike_start_idx\\\n",
    "                            + zero_crosses[np.argwhere(np.diff(zero_crosses)>3)[0] + 1][0]\n",
    "        else: #Vm ends before spike can repolarize, therefore assigned Vm[-1] as spike end\n",
    "            spike_end_idx = len(Vm)-1\n",
    "\n",
    "        spike_Vm = Vm[spike_start_idx:spike_end_idx]\n",
    "        spike_time = time[spike_start_idx:spike_end_idx] - time[spike_start_idx]\n",
    "        spike_dVdt = dVdt[spike_start_idx:spike_end_idx]\n",
    "        spike = {}\n",
    "        spike['start_idx'] = spike_start_idx\n",
    "        spike['start_time'] = time[spike_start_idx]\n",
    "        spike['end_idx'] = spike_end_idx\n",
    "        spike['end_time'] = time[spike_end_idx]\n",
    "        spike['Vm'] = spike_Vm\n",
    "        spike['time'] = spike_time\n",
    "        spike['thresh'] = spike_Vm[0]\n",
    "        spike['peak_Vm'] = spike_Vm.max()\n",
    "        spike['height'] = np.max(spike_Vm)-spike_Vm[0]\n",
    "        spike['AHP'] = spike_Vm[0]-spike_Vm[-1]\n",
    "        spike['peak_dVdt'] = spike_dVdt.max()\n",
    "        spike['min_dVdt'] = spike_dVdt.min()\n",
    "        try:\n",
    "            half_pnts = find_zero_crossing(spike_Vm - (spike_Vm[0]+(np.max(spike_Vm)-spike_Vm[0])/2))\n",
    "            spike['half_width'] = (half_pnts[1]-half_pnts[0])*dt*1000\n",
    "        except: #For slowly repolarizing spikes this can sometimes fail\n",
    "            spike['half_width'] = np.nan\n",
    "\n",
    "        spike_properties.append(spike)\n",
    "    return spike_times,spike_properties\n",
    "\n",
    "def detect_spike_times(Vm, time, dVdt_thresh = 15, min_spike_len = 0.0002):\n",
    "    '''\n",
    "    Wrapper of detect_spikes to only get spike times\n",
    "    '''\n",
    "    return detect_spikes(Vm, time,\n",
    "                          dVdt_thresh = dVdt_thresh,\n",
    "                          min_spike_len = min_spike_len,\n",
    "                          properties=False)\n",
    "\n",
    "def detect_spike_properties(Vm, time, dVdt_thresh = 15, min_spike_len = 0.0001):\n",
    "    '''\n",
    "    Wrapper of detect_spikes to only get spike properties\n",
    "    '''\n",
    "    return detect_spikes(Vm, time,\n",
    "                          dVdt_thresh = dVdt_thresh,\n",
    "                          min_spike_len = min_spike_len,\n",
    "                          properties=True)[1]\n",
    "\n",
    "def group_consecutives(vals, step=1):\n",
    "    \"\"\"Return list of consecutive lists of numbers from vals (number list).\"\"\"\n",
    "    run = []\n",
    "    result = [run]\n",
    "    expect = None\n",
    "    for v in vals:\n",
    "        if (v == expect) or (expect is None):\n",
    "            run.append(v)\n",
    "        else:\n",
    "            run = [v]\n",
    "            result.append(run)\n",
    "        expect = v + step\n",
    "    return result\n",
    "\n",
    "def find_zero_crossing(x):\n",
    "    '''\n",
    "    returns array of indicies before a zero crossing occur\n",
    "    If your input array starts and stops with zeros, it will find a zero crossing at the beginning, but not at the end\n",
    "    '''\n",
    "    zero_crossings = np.where(np.diff(np.signbit(x)))[0]\n",
    "    return zero_crossings\n",
    "\n"
   ]
  },
  {
   "cell_type": "code",
   "execution_count": 7,
   "id": "37acedc6",
   "metadata": {},
   "outputs": [
    {
     "data": {
      "text/plain": [
       "[<matplotlib.lines.Line2D at 0x7f28ab32d9a0>]"
      ]
     },
     "execution_count": 7,
     "metadata": {},
     "output_type": "execute_result"
    },
    {
     "data": {
      "image/png": "[encoded data removed]",
      "text/plain": [
       "<Figure size 226.772x221.102 with 1 Axes>"
      ]
     },
     "metadata": {
      "needs_background": "light"
     },
     "output_type": "display_data"
    }
   ],
   "source": [
    "Vm, I, time = sim.give_VIt(0.5)\n",
    "dVdt = np.gradient(Vm,time)/1e3\n",
    "fig,axs = plt.subplots(1,figsize=(cm_to_in(8),cm_to_in(7.8)))\n",
    "axs.plot(Vm,dVdt, label='Vm', color='black',linewidth=1)\n"
   ]
  },
  {
   "cell_type": "code",
   "execution_count": 8,
   "id": "510eb7bc",
   "metadata": {},
   "outputs": [
    {
     "data": {
      "image/png": "[encoded data removed]",
      "text/plain": [
       "<Figure size 432x288 with 1 Axes>"
      ]
     },
     "metadata": {
      "needs_background": "light"
     },
     "output_type": "display_data"
    },
    {
     "name": "stdout",
     "output_type": "stream",
     "text": [
      "[438.60133215 332.13291519 361.03333694 363.82904897 365.51397945\n",
      " 363.17648916 360.26501018 357.00426331 355.62968149] 8.159265367489557\n"
     ]
    }
   ],
   "source": [
    "I_K = I['K']*1000\n",
    "I_Na = I['Na']*1000  \n",
    "plt.plot(time,I_K)\n",
    "plt.show()\n",
    "from numpy import trapz\n",
    "area= trapz(I_K, dx=time[1]-time[0])\n",
    "from scipy.signal import find_peaks\n",
    "peaks, _ = find_peaks(I_K, height=300)\n",
    "print(I_K[peaks],area)"
   ]
  },
  {
   "cell_type": "code",
   "execution_count": 9,
   "id": "5b2551b6",
   "metadata": {},
   "outputs": [
    {
     "name": "stdout",
     "output_type": "stream",
     "text": [
      "0\n"
     ]
    }
   ],
   "source": [
    "Vm, I, time = sim.give_VIt(0.07)\n",
    "spike_times,spike_properties = detect_spikes(Vm,time)\n",
    "print(len(spike_times))"
   ]
  },
  {
   "cell_type": "code",
   "execution_count": 12,
   "id": "859aab29",
   "metadata": {},
   "outputs": [
    {
     "name": "stdout",
     "output_type": "stream",
     "text": [
      "the new Range is [0.07851562500000002, 0.07859375000000002]\n",
      "the new Range is [0.07855468750000003, 0.07859375000000002]\n",
      "the new Range is [0.07855468750000003, 0.07857421875000002]\n",
      "the new Range is [0.07855468750000003, 0.07856445312500002]\n",
      "the new Range is [0.07855468750000003, 0.07855957031250002]\n"
     ]
    },
    {
     "ename": "KeyboardInterrupt",
     "evalue": "",
     "output_type": "error",
     "traceback": [
      "\u001b[0;31m---------------------------------------------------------------------------\u001b[0m",
      "\u001b[0;31mKeyboardInterrupt\u001b[0m                         Traceback (most recent call last)",
      "Input \u001b[0;32mIn [12]\u001b[0m, in \u001b[0;36m<module>\u001b[0;34m\u001b[0m\n\u001b[1;32m      3\u001b[0m x \u001b[38;5;241m=\u001b[39m \u001b[38;5;241m1\u001b[39m\n\u001b[1;32m      4\u001b[0m \u001b[38;5;28;01mwhile\u001b[39;00m x\u001b[38;5;241m<\u001b[39m\u001b[38;5;241m7\u001b[39m:\n\u001b[0;32m----> 5\u001b[0m     Vm, I, time \u001b[38;5;241m=\u001b[39m \u001b[43msim\u001b[49m\u001b[38;5;241;43m.\u001b[39;49m\u001b[43mgive_VIt\u001b[49m\u001b[43m(\u001b[49m\u001b[43m(\u001b[49m\u001b[43mmaximum\u001b[49m\u001b[38;5;241;43m+\u001b[39;49m\u001b[43mminimum\u001b[49m\u001b[43m)\u001b[49m\u001b[38;5;241;43m/\u001b[39;49m\u001b[38;5;241;43m2\u001b[39;49m\u001b[43m)\u001b[49m\n\u001b[1;32m      6\u001b[0m     spike_times,spike_properties \u001b[38;5;241m=\u001b[39m detect_spikes(Vm,time)\n\u001b[1;32m      7\u001b[0m     \u001b[38;5;28;01mif\u001b[39;00m \u001b[38;5;28mlen\u001b[39m(spike_times) \u001b[38;5;241m>\u001b[39m\u001b[38;5;241m=\u001b[39m \u001b[38;5;241m1\u001b[39m :\n",
      "File \u001b[0;32m/ghazaleh/NaMut.py:90\u001b[0m, in \u001b[0;36mNaMut.give_VIt\u001b[0;34m(self, stim_amp)\u001b[0m\n\u001b[1;32m     88\u001b[0m \u001b[38;5;28;01mdef\u001b[39;00m \u001b[38;5;21mgive_VIt\u001b[39m(\u001b[38;5;28mself\u001b[39m, stim_amp \u001b[38;5;241m=\u001b[39m \u001b[38;5;241m0.3\u001b[39m):\n\u001b[1;32m     89\u001b[0m     \u001b[38;5;28mself\u001b[39m\u001b[38;5;241m.\u001b[39ml5mdl\u001b[38;5;241m.\u001b[39minit_stim(amp\u001b[38;5;241m=\u001b[39m stim_amp)\n\u001b[0;32m---> 90\u001b[0m     Vm, I, t, stim \u001b[38;5;241m=\u001b[39m \u001b[38;5;28;43mself\u001b[39;49m\u001b[38;5;241;43m.\u001b[39;49m\u001b[43ml5mdl\u001b[49m\u001b[38;5;241;43m.\u001b[39;49m\u001b[43mrun_model\u001b[49m\u001b[43m(\u001b[49m\u001b[43mdt\u001b[49m\u001b[38;5;241;43m=\u001b[39;49m\u001b[38;5;241;43m0.01\u001b[39;49m\u001b[43m)\u001b[49m\n\u001b[1;32m     91\u001b[0m     \u001b[38;5;28;01mreturn\u001b[39;00m Vm, I, t\n",
      "File \u001b[0;32m/ghazaleh/NeuronModelClass.py:121\u001b[0m, in \u001b[0;36mNeuronModel.run_model\u001b[0;34m(self, start_Vm, dt, rec_extra)\u001b[0m\n\u001b[1;32m    119\u001b[0m         extra_Vms[\u001b[38;5;124m'\u001b[39m\u001b[38;5;124mnexus\u001b[39m\u001b[38;5;124m'\u001b[39m][i] \u001b[38;5;241m=\u001b[39m \u001b[38;5;28mself\u001b[39m\u001b[38;5;241m.\u001b[39mnexus(\u001b[38;5;241m0.5\u001b[39m)\u001b[38;5;241m.\u001b[39mv\n\u001b[1;32m    120\u001b[0m         extra_Vms[\u001b[38;5;124m'\u001b[39m\u001b[38;5;124mdist_dend\u001b[39m\u001b[38;5;124m'\u001b[39m][i] \u001b[38;5;241m=\u001b[39m \u001b[38;5;28mself\u001b[39m\u001b[38;5;241m.\u001b[39mdist_dend(\u001b[38;5;241m0.5\u001b[39m)\u001b[38;5;241m.\u001b[39mv\n\u001b[0;32m--> 121\u001b[0m     \u001b[43mh\u001b[49m\u001b[38;5;241;43m.\u001b[39;49m\u001b[43mfadvance\u001b[49m\u001b[43m(\u001b[49m\u001b[43m)\u001b[49m\n\u001b[1;32m    122\u001b[0m \u001b[38;5;28;01mif\u001b[39;00m rec_extra:\n\u001b[1;32m    123\u001b[0m     \u001b[38;5;28;01mreturn\u001b[39;00m Vm, I, t, stim,extra_Vms\n",
      "\u001b[0;31mKeyboardInterrupt\u001b[0m: "
     ]
    }
   ],
   "source": [
    "minimum = 0.07843750000000002\n",
    "maximum = 0.07859375000000002 #to define the range of current stimulation. min and max are in nA\n",
    "x = 1\n",
    "while x<12:\n",
    "    Vm, I, time = sim.give_VIt((maximum+minimum)/2)\n",
    "    spike_times,spike_properties = detect_spikes(Vm,time)\n",
    "    if len(spike_times) >= 1 :\n",
    "        maximum= (maximum+minimum)/2\n",
    "        print (\"the new Range is\", [minimum, maximum])\n",
    "        x+=1\n",
    "        \n",
    "    else:\n",
    "        minimum =  (maximum+minimum)/2\n",
    "        print (\"the new Range is\", [minimum, maximum])\n",
    "        x+=1\n",
    "        #rheo_range=np.linspace(minimum, maximum, 10)\n",
    "\n",
    "        \n",
    "print(maximum)\n",
    "#78.56 for na12wt3"
   ]
  },
  {
   "cell_type": "code",
   "execution_count": 14,
   "id": "d29c05d6",
   "metadata": {},
   "outputs": [
    {
     "name": "stdout",
     "output_type": "stream",
     "text": [
      "1\n",
      "2\n",
      "3\n",
      "4\n",
      "5\n",
      "[72, 74, 76, 78, 80] [0, 0, 0, 0, 1]\n",
      "6\n",
      "7\n",
      "8\n",
      "9\n",
      "10\n",
      "[72, 74, 76, 78, 80, 82, 84, 86, 88, 90] [0, 0, 0, 0, 1, 1, 1, 1, 1, 1]\n",
      "11\n",
      "12\n",
      "13\n",
      "14\n",
      "15\n",
      "[72, 74, 76, 78, 80, 82, 84, 86, 88, 90, 92, 94, 96, 98, 100] [0, 0, 0, 0, 1, 1, 1, 1, 1, 1, 1, 1, 1, 1, 2]\n",
      "16\n",
      "17\n",
      "18\n",
      "19\n",
      "20\n",
      "[72, 74, 76, 78, 80, 82, 84, 86, 88, 90, 92, 94, 96, 98, 100, 102, 104, 106, 108, 110] [0, 0, 0, 0, 1, 1, 1, 1, 1, 1, 1, 1, 1, 1, 2, 2, 2, 2, 2, 2]\n",
      "21\n",
      "22\n",
      "23\n",
      "24\n",
      "25\n",
      "[72, 74, 76, 78, 80, 82, 84, 86, 88, 90, 92, 94, 96, 98, 100, 102, 104, 106, 108, 110, 112, 114, 116, 118, 120] [0, 0, 0, 0, 1, 1, 1, 1, 1, 1, 1, 1, 1, 1, 2, 2, 2, 2, 2, 2, 2, 2, 2, 2, 2]\n",
      "26\n",
      "27\n",
      "28\n",
      "29\n",
      "30\n",
      "[72, 74, 76, 78, 80, 82, 84, 86, 88, 90, 92, 94, 96, 98, 100, 102, 104, 106, 108, 110, 112, 114, 116, 118, 120, 122, 124, 126, 128, 130] [0, 0, 0, 0, 1, 1, 1, 1, 1, 1, 1, 1, 1, 1, 2, 2, 2, 2, 2, 2, 2, 2, 2, 2, 2, 2, 2, 2, 2, 2]\n",
      "31\n",
      "32\n",
      "33\n",
      "34\n",
      "35\n",
      "[72, 74, 76, 78, 80, 82, 84, 86, 88, 90, 92, 94, 96, 98, 100, 102, 104, 106, 108, 110, 112, 114, 116, 118, 120, 122, 124, 126, 128, 130, 132, 134, 136, 138, 140] [0, 0, 0, 0, 1, 1, 1, 1, 1, 1, 1, 1, 1, 1, 2, 2, 2, 2, 2, 2, 2, 2, 2, 2, 2, 2, 2, 2, 2, 2, 2, 2, 2, 2, 3]\n",
      "36\n",
      "37\n",
      "38\n",
      "39\n",
      "40\n",
      "[72, 74, 76, 78, 80, 82, 84, 86, 88, 90, 92, 94, 96, 98, 100, 102, 104, 106, 108, 110, 112, 114, 116, 118, 120, 122, 124, 126, 128, 130, 132, 134, 136, 138, 140, 142, 144, 146, 148, 150] [0, 0, 0, 0, 1, 1, 1, 1, 1, 1, 1, 1, 1, 1, 2, 2, 2, 2, 2, 2, 2, 2, 2, 2, 2, 2, 2, 2, 2, 2, 2, 2, 2, 2, 3, 3, 3, 3, 3, 3]\n",
      "41\n",
      "42\n",
      "43\n",
      "44\n",
      "45\n",
      "[72, 74, 76, 78, 80, 82, 84, 86, 88, 90, 92, 94, 96, 98, 100, 102, 104, 106, 108, 110, 112, 114, 116, 118, 120, 122, 124, 126, 128, 130, 132, 134, 136, 138, 140, 142, 144, 146, 148, 150, 152, 154, 156, 158, 160] [0, 0, 0, 0, 1, 1, 1, 1, 1, 1, 1, 1, 1, 1, 2, 2, 2, 2, 2, 2, 2, 2, 2, 2, 2, 2, 2, 2, 2, 2, 2, 2, 2, 2, 3, 3, 3, 3, 3, 3, 3, 3, 3, 3, 3]\n",
      "46\n",
      "47\n",
      "48\n",
      "49\n",
      "50\n",
      "[72, 74, 76, 78, 80, 82, 84, 86, 88, 90, 92, 94, 96, 98, 100, 102, 104, 106, 108, 110, 112, 114, 116, 118, 120, 122, 124, 126, 128, 130, 132, 134, 136, 138, 140, 142, 144, 146, 148, 150, 152, 154, 156, 158, 160, 162, 164, 166, 168, 170] [0, 0, 0, 0, 1, 1, 1, 1, 1, 1, 1, 1, 1, 1, 2, 2, 2, 2, 2, 2, 2, 2, 2, 2, 2, 2, 2, 2, 2, 2, 2, 2, 2, 2, 3, 3, 3, 3, 3, 3, 3, 3, 3, 3, 3, 3, 3, 3, 3, 3]\n",
      "51\n",
      "52\n",
      "53\n",
      "54\n",
      "55\n",
      "[72, 74, 76, 78, 80, 82, 84, 86, 88, 90, 92, 94, 96, 98, 100, 102, 104, 106, 108, 110, 112, 114, 116, 118, 120, 122, 124, 126, 128, 130, 132, 134, 136, 138, 140, 142, 144, 146, 148, 150, 152, 154, 156, 158, 160, 162, 164, 166, 168, 170, 172, 174, 176, 178, 180] [0, 0, 0, 0, 1, 1, 1, 1, 1, 1, 1, 1, 1, 1, 2, 2, 2, 2, 2, 2, 2, 2, 2, 2, 2, 2, 2, 2, 2, 2, 2, 2, 2, 2, 3, 3, 3, 3, 3, 3, 3, 3, 3, 3, 3, 3, 3, 3, 3, 3, 3, 3, 3, 3, 3]\n",
      "56\n",
      "57\n",
      "58\n",
      "59\n",
      "60\n",
      "[72, 74, 76, 78, 80, 82, 84, 86, 88, 90, 92, 94, 96, 98, 100, 102, 104, 106, 108, 110, 112, 114, 116, 118, 120, 122, 124, 126, 128, 130, 132, 134, 136, 138, 140, 142, 144, 146, 148, 150, 152, 154, 156, 158, 160, 162, 164, 166, 168, 170, 172, 174, 176, 178, 180, 182, 184, 186, 188, 190] [0, 0, 0, 0, 1, 1, 1, 1, 1, 1, 1, 1, 1, 1, 2, 2, 2, 2, 2, 2, 2, 2, 2, 2, 2, 2, 2, 2, 2, 2, 2, 2, 2, 2, 3, 3, 3, 3, 3, 3, 3, 3, 3, 3, 3, 3, 3, 3, 3, 3, 3, 3, 3, 3, 3, 3, 3, 3, 3, 3]\n",
      "61\n",
      "62\n",
      "63\n",
      "64\n",
      "65\n",
      "[72, 74, 76, 78, 80, 82, 84, 86, 88, 90, 92, 94, 96, 98, 100, 102, 104, 106, 108, 110, 112, 114, 116, 118, 120, 122, 124, 126, 128, 130, 132, 134, 136, 138, 140, 142, 144, 146, 148, 150, 152, 154, 156, 158, 160, 162, 164, 166, 168, 170, 172, 174, 176, 178, 180, 182, 184, 186, 188, 190, 192, 194, 196, 198, 200] [0, 0, 0, 0, 1, 1, 1, 1, 1, 1, 1, 1, 1, 1, 2, 2, 2, 2, 2, 2, 2, 2, 2, 2, 2, 2, 2, 2, 2, 2, 2, 2, 2, 2, 3, 3, 3, 3, 3, 3, 3, 3, 3, 3, 3, 3, 3, 3, 3, 3, 3, 3, 3, 3, 3, 3, 3, 3, 3, 3, 3, 3, 3, 4, 4]\n",
      "66\n",
      "67\n",
      "68\n",
      "69\n",
      "70\n",
      "[72, 74, 76, 78, 80, 82, 84, 86, 88, 90, 92, 94, 96, 98, 100, 102, 104, 106, 108, 110, 112, 114, 116, 118, 120, 122, 124, 126, 128, 130, 132, 134, 136, 138, 140, 142, 144, 146, 148, 150, 152, 154, 156, 158, 160, 162, 164, 166, 168, 170, 172, 174, 176, 178, 180, 182, 184, 186, 188, 190, 192, 194, 196, 198, 200, 202, 204, 206, 208, 210] [0, 0, 0, 0, 1, 1, 1, 1, 1, 1, 1, 1, 1, 1, 2, 2, 2, 2, 2, 2, 2, 2, 2, 2, 2, 2, 2, 2, 2, 2, 2, 2, 2, 2, 3, 3, 3, 3, 3, 3, 3, 3, 3, 3, 3, 3, 3, 3, 3, 3, 3, 3, 3, 3, 3, 3, 3, 3, 3, 3, 3, 3, 3, 4, 4, 4, 4, 4, 4, 4]\n",
      "71\n",
      "72\n",
      "73\n",
      "74\n",
      "75\n",
      "[72, 74, 76, 78, 80, 82, 84, 86, 88, 90, 92, 94, 96, 98, 100, 102, 104, 106, 108, 110, 112, 114, 116, 118, 120, 122, 124, 126, 128, 130, 132, 134, 136, 138, 140, 142, 144, 146, 148, 150, 152, 154, 156, 158, 160, 162, 164, 166, 168, 170, 172, 174, 176, 178, 180, 182, 184, 186, 188, 190, 192, 194, 196, 198, 200, 202, 204, 206, 208, 210, 212, 214, 216, 218, 220] [0, 0, 0, 0, 1, 1, 1, 1, 1, 1, 1, 1, 1, 1, 2, 2, 2, 2, 2, 2, 2, 2, 2, 2, 2, 2, 2, 2, 2, 2, 2, 2, 2, 2, 3, 3, 3, 3, 3, 3, 3, 3, 3, 3, 3, 3, 3, 3, 3, 3, 3, 3, 3, 3, 3, 3, 3, 3, 3, 3, 3, 3, 3, 4, 4, 4, 4, 4, 4, 4, 4, 4, 4, 4, 4]\n",
      "76\n",
      "77\n",
      "78\n",
      "79\n",
      "80\n",
      "[72, 74, 76, 78, 80, 82, 84, 86, 88, 90, 92, 94, 96, 98, 100, 102, 104, 106, 108, 110, 112, 114, 116, 118, 120, 122, 124, 126, 128, 130, 132, 134, 136, 138, 140, 142, 144, 146, 148, 150, 152, 154, 156, 158, 160, 162, 164, 166, 168, 170, 172, 174, 176, 178, 180, 182, 184, 186, 188, 190, 192, 194, 196, 198, 200, 202, 204, 206, 208, 210, 212, 214, 216, 218, 220, 222, 224, 226, 228, 230] [0, 0, 0, 0, 1, 1, 1, 1, 1, 1, 1, 1, 1, 1, 2, 2, 2, 2, 2, 2, 2, 2, 2, 2, 2, 2, 2, 2, 2, 2, 2, 2, 2, 2, 3, 3, 3, 3, 3, 3, 3, 3, 3, 3, 3, 3, 3, 3, 3, 3, 3, 3, 3, 3, 3, 3, 3, 3, 3, 3, 3, 3, 3, 4, 4, 4, 4, 4, 4, 4, 4, 4, 4, 4, 4, 4, 4, 4, 4, 4]\n",
      "81\n",
      "82\n",
      "83\n",
      "84\n",
      "85\n",
      "[72, 74, 76, 78, 80, 82, 84, 86, 88, 90, 92, 94, 96, 98, 100, 102, 104, 106, 108, 110, 112, 114, 116, 118, 120, 122, 124, 126, 128, 130, 132, 134, 136, 138, 140, 142, 144, 146, 148, 150, 152, 154, 156, 158, 160, 162, 164, 166, 168, 170, 172, 174, 176, 178, 180, 182, 184, 186, 188, 190, 192, 194, 196, 198, 200, 202, 204, 206, 208, 210, 212, 214, 216, 218, 220, 222, 224, 226, 228, 230, 232, 234, 236, 238, 240] [0, 0, 0, 0, 1, 1, 1, 1, 1, 1, 1, 1, 1, 1, 2, 2, 2, 2, 2, 2, 2, 2, 2, 2, 2, 2, 2, 2, 2, 2, 2, 2, 2, 2, 3, 3, 3, 3, 3, 3, 3, 3, 3, 3, 3, 3, 3, 3, 3, 3, 3, 3, 3, 3, 3, 3, 3, 3, 3, 3, 3, 3, 3, 4, 4, 4, 4, 4, 4, 4, 4, 4, 4, 4, 4, 4, 4, 4, 4, 4, 4, 4, 4, 4, 4]\n",
      "86\n",
      "87\n",
      "88\n",
      "89\n"
     ]
    },
    {
     "data": {
      "image/png": "[encoded data removed]",
      "text/plain": [
       "<Figure size 432x288 with 1 Axes>"
      ]
     },
     "metadata": {
      "needs_background": "light"
     },
     "output_type": "display_data"
    }
   ],
   "source": [
    "m=[]\n",
    "n=[]\n",
    "for i in range (1,90):\n",
    "    Vm, I, time = sim.give_VIt(0.07+i/500)\n",
    "    spike_times,spike_properties = detect_spikes(Vm,time)\n",
    "    m.append(70+i*2)\n",
    "    n.append(len(spike_times))\n",
    "    print(i)\n",
    "    if i%5==0:\n",
    "        print(m,n)\n",
    "    \n",
    "\n",
    "plt.plot(m,n)\n",
    "plt.show()    "
   ]
  },
  {
   "cell_type": "code",
   "execution_count": null,
   "id": "dc19809c",
   "metadata": {},
   "outputs": [],
   "source": []
  },
  {
   "cell_type": "code",
   "execution_count": null,
   "id": "36cf9dee",
   "metadata": {},
   "outputs": [],
   "source": [
    "Vm, I, time = sim.give_VIt(0.6)\n",
    "spike_times,spike_properties = detect_spikes(Vm,time)\n",
    "print(len(spike_times))\n",
    "# for wt at 0.6 is 12\n",
    "# for het at 0.6 is 11\n",
    "#homo 11 and at 0.7 is 13"
   ]
  },
  {
   "cell_type": "code",
   "execution_count": null,
   "id": "afb13fe1",
   "metadata": {},
   "outputs": [],
   "source": [
    "print(x,y)\n",
    "print(m,n)\n",
    "print(p,q)\n",
    "\"\"\"\n",
    "[0.0395, 0.079, 0.1185, 0.158, 0.1975, 0.237, 0.2765, 0.316, 0.3555, 0.395, 0.4345, 0.474, 0.5135, 0.553, 0.5925, 0.632, 0.6715, 0.711, 0.7505000000000001, 0.79, 0.8295, 0.869, 0.9085, 0.948, 0.9875, 1.027, 1.0665, 1.106, 1.1455] [0, 0, 2, 3, 4, 4, 5, 5, 6, 7, 7, 8, 9, 10, 11, 11, 12, 13, 14, 15, 15, 16, 17, 18, 18, 19, 20, 20, 21]\n",
    "[0.0395, 0.079, 0.1185, 0.158, 0.1975, 0.237, 0.2765, 0.316, 0.3555, 0.395, 0.4345, 0.474, 0.5135, 0.553, 0.5925, 0.632, 0.6715, 0.711, 0.7505000000000001, 0.79, 0.8295, 0.869, 0.9085, 0.948, 0.9875, 1.027, 1.0665, 1.106, 1.1455] [0, 0, 2, 3, 4, 4, 5, 5, 6, 7, 7, 8, 9, 10, 11, 11, 12, 13, 14, 15, 15, 16, 17, 18, 18, 19, 20, 20, 21]\n",
    "[0.0395, 0.079, 0.1185, 0.158, 0.1975, 0.237, 0.2765, 0.316, 0.3555, 0.395, 0.4345, 0.474, 0.5135, 0.553, 0.5925, 0.632, 0.6715, 0.711, 0.7505000000000001, 0.79, 0.8295, 0.869, 0.9085, 0.948, 0.9875, 1.027, 1.0665, 1.106, 1.1455] [0, 0, 2, 3, 4, 4, 5, 5, 6, 7, 7, 8, 9, 10, 11, 11, 12, 13, 14, 15, 15, 16, 17, 18, 18, 19, 20, 20, 21]\n",
    "\n",
    "\"\"\""
   ]
  },
  {
   "cell_type": "code",
   "execution_count": null,
   "id": "d77173a3",
   "metadata": {},
   "outputs": [],
   "source": [
    "import matplotlib.pyplot as plt\n",
    "import numpy as np\n",
    "plt.plot(x,y)\n",
    "plt.plot(m,n)\n",
    "plt.plot(p,q)\n",
    "plt.show()"
   ]
  },
  {
   "cell_type": "code",
   "execution_count": null,
   "id": "be897ec9",
   "metadata": {},
   "outputs": [],
   "source": [
    "# hetero\n",
    "\"\"\"\n",
    "x=[]\n",
    "y=[]\n",
    "for i in range (5,15):\n",
    "    Vm, I, time = sim.give_VIt(i*0.078/5)\n",
    "    spike_times,spike_properties = detect_spikes(Vm,time)\n",
    "    numb_spike = len(spike_times)\n",
    "    x.append(i*0.078/5)\n",
    "    y.append(numb_spike)\n",
    "    print(x,y)  \n",
    "\"\"\"\n",
    "\"\"\"\n",
    "#homo rheo is 79. something\n",
    "\n",
    "for i in range (70,91,7):\n",
    "    Vm, I, time = sim.give_VIt(i/100)\n",
    "    spike_times,spike_properties = detect_spikes(Vm,time)\n",
    "    numb_spike = len(spike_times)\n",
    "    m.append(i/100)\n",
    "    n.append(numb_spike)\n",
    "    print(m,n)\n",
    "#[0.07, 0.14, 0.21, 0.28, 0.35, 0.42, 0.49, 0.56, 0.63, 0.7, 0.77, 0.84] [0, 3, 4, 5, 6, 7, 8, 10, 11, 13, 14, 16]\n",
    "\"\"\"\n",
    "\n",
    "#WT rheo is 78.55\n",
    "p=[]\n",
    "q=[]\n",
    "for i in range (7,91,7):\n",
    "    Vm, I, time = sim.give_VIt(i/100)\n",
    "    spike_times,spike_properties = detect_spikes(Vm,time)\n",
    "    numb_spike = len(spike_times)\n",
    "    p.append(i/100)\n",
    "    q.append(numb_spike)\n",
    "    print(p,q)\n",
    "#[0.078, 0.09359999999999999, 0.1092, 0.1248, 0.1404, 0.156, 0.1716, 0.18719999999999998, 0.2028, 0.2184] [0, 1, 2, 2, 3, 3, 3, 3, 4, 4]\n",
    "#[0.07, 0.14, 0.21, 0.28, 0.35, 0.42, 0.49, 0.56, 0.63, 0.7, 0.77, 0.84] [0, 3, 4, 5, 6, 7, 9, 11, 12, 13, 15, 16]\n"
   ]
  }
 ],
 "metadata": {
  "kernelspec": {
   "display_name": "Python 3 (ipykernel)",
   "language": "python",
   "name": "python3"
  },
  "language_info": {
   "codemirror_mode": {
    "name": "ipython",
    "version": 3
   },
   "file_extension": ".py",
   "mimetype": "text/x-python",
   "name": "python",
   "nbconvert_exporter": "python",
   "pygments_lexer": "ipython3",
   "version": "3.8.10"
  },
  "vscode": {
   "interpreter": {
    "hash": "916dbcbb3f70747c44a77c7bcd40155683ae19c65e1c03b4aa3499c5328201f1"
   }
  }
 },
 "nbformat": 4,
 "nbformat_minor": 5
}
